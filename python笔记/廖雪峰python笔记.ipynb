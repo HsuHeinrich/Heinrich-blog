{
 "cells": [
  {
   "cell_type": "markdown",
   "metadata": {},
   "source": [
    "# 廖雪峰python笔记"
   ]
  },
  {
   "cell_type": "markdown",
   "metadata": {},
   "source": [
    "## 输入输出"
   ]
  },
  {
   "cell_type": "code",
   "execution_count": 1,
   "metadata": {},
   "outputs": [
    {
     "name": "stdout",
     "output_type": "stream",
     "text": [
      "100 + 200 = 300\n"
     ]
    }
   ],
   "source": [
    "print('100 + 200 =', 100+200)"
   ]
  },
  {
   "cell_type": "code",
   "execution_count": 2,
   "metadata": {},
   "outputs": [
    {
     "name": "stdout",
     "output_type": "stream",
     "text": [
      "please enter your name: heinrich\n"
     ]
    }
   ],
   "source": [
    "name = input('please enter your name: ')"
   ]
  },
  {
   "cell_type": "markdown",
   "metadata": {},
   "source": [
    "## 数据类型"
   ]
  },
  {
   "cell_type": "markdown",
   "metadata": {},
   "source": [
    "整数、浮点数、字符串、布尔值、空值None"
   ]
  },
  {
   "cell_type": "markdown",
   "metadata": {},
   "source": [
    "## 编码"
   ]
  },
  {
   "cell_type": "markdown",
   "metadata": {},
   "source": [
    "以Unicode表示的str通过`encode()`方法可以编码为指定的bytes"
   ]
  },
  {
   "cell_type": "code",
   "execution_count": 4,
   "metadata": {},
   "outputs": [
    {
     "data": {
      "text/plain": [
       "b'ABC'"
      ]
     },
     "execution_count": 4,
     "metadata": {},
     "output_type": "execute_result"
    }
   ],
   "source": [
    "'ABC'.encode('ascii')"
   ]
  },
  {
   "cell_type": "code",
   "execution_count": 5,
   "metadata": {},
   "outputs": [
    {
     "data": {
      "text/plain": [
       "b'\\xe4\\xb8\\xad\\xe6\\x96\\x87'"
      ]
     },
     "execution_count": 5,
     "metadata": {},
     "output_type": "execute_result"
    }
   ],
   "source": [
    "'中文'.encode('utf-8')"
   ]
  },
  {
   "cell_type": "markdown",
   "metadata": {},
   "source": [
    "如果我们从网络或磁盘上读取了字节流，那么读到的数据就是bytes。要把bytes变为str，就需要用`decode()`方法"
   ]
  },
  {
   "cell_type": "code",
   "execution_count": 6,
   "metadata": {},
   "outputs": [
    {
     "data": {
      "text/plain": [
       "'ABC'"
      ]
     },
     "execution_count": 6,
     "metadata": {},
     "output_type": "execute_result"
    }
   ],
   "source": [
    "b'ABC'.decode('ascii')"
   ]
  },
  {
   "cell_type": "code",
   "execution_count": 7,
   "metadata": {},
   "outputs": [
    {
     "data": {
      "text/plain": [
       "'中文'"
      ]
     },
     "execution_count": 7,
     "metadata": {},
     "output_type": "execute_result"
    }
   ],
   "source": [
    "b'\\xe4\\xb8\\xad\\xe6\\x96\\x87'.decode('utf-8')"
   ]
  },
  {
   "cell_type": "markdown",
   "metadata": {},
   "source": [
    "如果bytes中只有一小部分无效的字节，可以传入`errors='ignore'`忽略错误的字节"
   ]
  },
  {
   "cell_type": "code",
   "execution_count": 8,
   "metadata": {},
   "outputs": [
    {
     "data": {
      "text/plain": [
       "'中'"
      ]
     },
     "execution_count": 8,
     "metadata": {},
     "output_type": "execute_result"
    }
   ],
   "source": [
    "b'\\xe4\\xb8\\xad\\xff'.decode('utf-8', errors= 'ignore')"
   ]
  },
  {
   "cell_type": "markdown",
   "metadata": {},
   "source": [
    "`len()`函数计算字符数与字节数"
   ]
  },
  {
   "cell_type": "code",
   "execution_count": 9,
   "metadata": {},
   "outputs": [
    {
     "data": {
      "text/plain": [
       "3"
      ]
     },
     "execution_count": 9,
     "metadata": {},
     "output_type": "execute_result"
    }
   ],
   "source": [
    "len('ABC')"
   ]
  },
  {
   "cell_type": "code",
   "execution_count": 10,
   "metadata": {},
   "outputs": [
    {
     "data": {
      "text/plain": [
       "2"
      ]
     },
     "execution_count": 10,
     "metadata": {},
     "output_type": "execute_result"
    }
   ],
   "source": [
    "len('中文')"
   ]
  },
  {
   "cell_type": "markdown",
   "metadata": {},
   "source": [
    "1个中文字符经过UTF-8编码后通常会占用3个字节，而1个英文字符只占用1个字节"
   ]
  },
  {
   "cell_type": "code",
   "execution_count": 11,
   "metadata": {},
   "outputs": [
    {
     "data": {
      "text/plain": [
       "3"
      ]
     },
     "execution_count": 11,
     "metadata": {},
     "output_type": "execute_result"
    }
   ],
   "source": [
    "len(b'ABC')"
   ]
  },
  {
   "cell_type": "code",
   "execution_count": 12,
   "metadata": {},
   "outputs": [
    {
     "data": {
      "text/plain": [
       "6"
      ]
     },
     "execution_count": 12,
     "metadata": {},
     "output_type": "execute_result"
    }
   ],
   "source": [
    "len('中文'.encode('utf-8'))"
   ]
  },
  {
   "cell_type": "markdown",
   "metadata": {},
   "source": [
    "由于Python源代码也是一个文本文件，所以，当你的源代码中包含中文的时候，在保存源代码时，就需要务必指定保存为UTF-8编码。当Python解释器读取源代码时，为了让它按UTF-8编码读取，我们通常在文件开头写上这两行:"
   ]
  },
  {
   "cell_type": "code",
   "execution_count": 13,
   "metadata": {},
   "outputs": [],
   "source": [
    "#!/usr/bin/env python3\n",
    "# -*- coding: utf-8 -*-"
   ]
  },
  {
   "cell_type": "markdown",
   "metadata": {},
   "source": [
    "## 格式化"
   ]
  },
  {
   "cell_type": "markdown",
   "metadata": {},
   "source": [
    "一个占位符对应一个变量或值；s%永远起作用"
   ]
  },
  {
   "cell_type": "code",
   "execution_count": 15,
   "metadata": {},
   "outputs": [
    {
     "name": "stdout",
     "output_type": "stream",
     "text": [
      " 3-01\n"
     ]
    }
   ],
   "source": [
    "print('%2d-%02d' % (3, 1))"
   ]
  },
  {
   "cell_type": "code",
   "execution_count": 17,
   "metadata": {},
   "outputs": [
    {
     "name": "stdout",
     "output_type": "stream",
     "text": [
      "growth rate: 7%\n"
     ]
    }
   ],
   "source": [
    "# 转义%\n",
    "print('growth rate: %d%%' % 7)"
   ]
  },
  {
   "cell_type": "markdown",
   "metadata": {},
   "source": [
    "字符串的`format()`方法,格式化字符串"
   ]
  },
  {
   "cell_type": "code",
   "execution_count": 1,
   "metadata": {},
   "outputs": [
    {
     "name": "stdout",
     "output_type": "stream",
     "text": [
      "Hello, 小明, 成绩提升了 17.1%\n"
     ]
    }
   ],
   "source": [
    "print('Hello, {0}, 成绩提升了 {1:.1f}%'.format('小明', 17.125))"
   ]
  },
  {
   "cell_type": "markdown",
   "metadata": {},
   "source": [
    "## list&tuple  "
   ]
  },
  {
   "cell_type": "code",
   "execution_count": 2,
   "metadata": {},
   "outputs": [
    {
     "name": "stdout",
     "output_type": "stream",
     "text": [
      "(1,)\n"
     ]
    }
   ],
   "source": [
    "# 只有1个元素的tuple定义时必须加一个逗号,，来消除歧义\n",
    "t = (1,)\n",
    "print(t)"
   ]
  },
  {
   "cell_type": "markdown",
   "metadata": {},
   "source": [
    "## 条件判断"
   ]
  },
  {
   "cell_type": "code",
   "execution_count": 3,
   "metadata": {},
   "outputs": [
    {
     "name": "stdout",
     "output_type": "stream",
     "text": [
      "kid\n"
     ]
    }
   ],
   "source": [
    "age = 3\n",
    "if age >= 18:\n",
    "    print('adult')\n",
    "elif age >= 6:\n",
    "    print('teenager')\n",
    "else:\n",
    "    print('kid')"
   ]
  },
  {
   "cell_type": "markdown",
   "metadata": {},
   "source": [
    "`input()`返回的是str类型 "
   ]
  },
  {
   "cell_type": "code",
   "execution_count": 4,
   "metadata": {},
   "outputs": [
    {
     "name": "stdout",
     "output_type": "stream",
     "text": [
      "birth: 1993\n",
      "00前\n"
     ]
    }
   ],
   "source": [
    "s = input('birth: ')\n",
    "birth = int(s)\n",
    "if birth < 2000:\n",
    "    print('00前')\n",
    "else:\n",
    "    print('00后')"
   ]
  },
  {
   "cell_type": "markdown",
   "metadata": {},
   "source": [
    "## 循环"
   ]
  },
  {
   "cell_type": "markdown",
   "metadata": {},
   "source": [
    "for循环"
   ]
  },
  {
   "cell_type": "code",
   "execution_count": 5,
   "metadata": {},
   "outputs": [
    {
     "name": "stdout",
     "output_type": "stream",
     "text": [
      "5050\n"
     ]
    }
   ],
   "source": [
    "sum = 0\n",
    "for x in range(101):\n",
    "    sum = sum + x\n",
    "print(sum)"
   ]
  },
  {
   "cell_type": "markdown",
   "metadata": {},
   "source": [
    "while循环"
   ]
  },
  {
   "cell_type": "code",
   "execution_count": 6,
   "metadata": {},
   "outputs": [
    {
     "name": "stdout",
     "output_type": "stream",
     "text": [
      "2500\n"
     ]
    }
   ],
   "source": [
    "sum = 0\n",
    "n = 99\n",
    "while n > 0:\n",
    "    sum = sum + n\n",
    "    n = n - 2\n",
    "print(sum)"
   ]
  },
  {
   "cell_type": "markdown",
   "metadata": {},
   "source": [
    "`break`提前结束循环"
   ]
  },
  {
   "cell_type": "code",
   "execution_count": 16,
   "metadata": {},
   "outputs": [
    {
     "name": "stdout",
     "output_type": "stream",
     "text": [
      "0\n",
      "1\n",
      "2\n",
      "3\n",
      "4\n",
      "5\n",
      "6\n",
      "7\n",
      "8\n",
      "9\n",
      "10\n",
      "55\n"
     ]
    }
   ],
   "source": [
    "sum = 0\n",
    "for x in range(20):\n",
    "    if x > 10:\n",
    "        break\n",
    "    print(x)\n",
    "    sum = sum + x\n",
    "print(sum)"
   ]
  },
  {
   "cell_type": "markdown",
   "metadata": {},
   "source": [
    "`continue`跳过本次循环，进入下一次循环"
   ]
  },
  {
   "cell_type": "code",
   "execution_count": 15,
   "metadata": {},
   "outputs": [
    {
     "name": "stdout",
     "output_type": "stream",
     "text": [
      "1\n",
      "3\n",
      "5\n",
      "7\n",
      "9\n",
      "11\n",
      "13\n",
      "15\n",
      "17\n",
      "19\n",
      "100\n"
     ]
    }
   ],
   "source": [
    "sum = 0\n",
    "for x in range(20):\n",
    "    if x % 2 == 0:\n",
    "        continue\n",
    "    sum = sum + x\n",
    "    print(x)\n",
    "print(sum)"
   ]
  },
  {
   "cell_type": "markdown",
   "metadata": {},
   "source": [
    "## dict&set"
   ]
  },
  {
   "cell_type": "code",
   "execution_count": 17,
   "metadata": {},
   "outputs": [],
   "source": [
    "d = {'Michael': 95, 'Bob': 75, 'Tracy': 85}"
   ]
  },
  {
   "cell_type": "markdown",
   "metadata": {},
   "source": [
    "通过dict提供的`et()`方法，如果key不存在，可以返回None，或者自己指定的value"
   ]
  },
  {
   "cell_type": "code",
   "execution_count": 18,
   "metadata": {},
   "outputs": [],
   "source": [
    "d.get('Thomas')"
   ]
  },
  {
   "cell_type": "code",
   "execution_count": 19,
   "metadata": {},
   "outputs": [
    {
     "data": {
      "text/plain": [
       "-1"
      ]
     },
     "execution_count": 19,
     "metadata": {},
     "output_type": "execute_result"
    }
   ],
   "source": [
    "d.get('Thomas',-1)"
   ]
  },
  {
   "cell_type": "markdown",
   "metadata": {},
   "source": [
    "set自动过滤重合元素"
   ]
  },
  {
   "cell_type": "code",
   "execution_count": 20,
   "metadata": {},
   "outputs": [],
   "source": [
    "s = set([1, 1, 2, 2, 3, 3])"
   ]
  },
  {
   "cell_type": "code",
   "execution_count": 21,
   "metadata": {},
   "outputs": [
    {
     "name": "stdout",
     "output_type": "stream",
     "text": [
      "{1, 2, 3}\n"
     ]
    }
   ],
   "source": [
    "print(s)"
   ]
  },
  {
   "cell_type": "markdown",
   "metadata": {},
   "source": [
    "set可进行集合运算"
   ]
  },
  {
   "cell_type": "code",
   "execution_count": 25,
   "metadata": {},
   "outputs": [
    {
     "name": "stdout",
     "output_type": "stream",
     "text": [
      "{2, 3}\n",
      "{1, 2, 3, 4}\n"
     ]
    }
   ],
   "source": [
    "s1 = set([1, 2, 3])\n",
    "s2 = set([2, 3, 4])\n",
    "print(s1 & s2)\n",
    "print(s1 | s2)"
   ]
  },
  {
   "cell_type": "markdown",
   "metadata": {},
   "source": [
    "*dict中的key和set的元素均不能为可变对象*"
   ]
  },
  {
   "cell_type": "markdown",
   "metadata": {},
   "source": [
    "## 不可变对象理解"
   ]
  },
  {
   "cell_type": "markdown",
   "metadata": {},
   "source": [
    "常见的不可变对象--str,tuple,set"
   ]
  },
  {
   "cell_type": "markdown",
   "metadata": {},
   "source": [
    "对可变对象操作，其内容会发生改变  \n",
    "即变量指向新的对象"
   ]
  },
  {
   "cell_type": "code",
   "execution_count": 29,
   "metadata": {},
   "outputs": [
    {
     "name": "stdout",
     "output_type": "stream",
     "text": [
      "[1, 2, 3]\n"
     ]
    }
   ],
   "source": [
    "a = [3, 1, 2]\n",
    "a.sort()\n",
    "print(a)"
   ]
  },
  {
   "cell_type": "markdown",
   "metadata": {},
   "source": [
    "对不可变对象操作，其内容不会发生改变  \n",
    "其实对不可变对象操作，会返回新的对象，变量依旧指向原先对象"
   ]
  },
  {
   "cell_type": "code",
   "execution_count": 31,
   "metadata": {},
   "outputs": [
    {
     "name": "stdout",
     "output_type": "stream",
     "text": [
      "abc\n",
      "abc\n",
      "FFFbc\n"
     ]
    }
   ],
   "source": [
    "a = 'abc'\n",
    "a.replace('a', 'AA')\n",
    "print(a)\n",
    "b = a.replace('a', 'FFF')\n",
    "print(a,b,sep='\\n')"
   ]
  },
  {
   "cell_type": "markdown",
   "metadata": {},
   "source": [
    "## 定义函数"
   ]
  },
  {
   "cell_type": "code",
   "execution_count": 33,
   "metadata": {},
   "outputs": [],
   "source": [
    "def my_abs(x):\n",
    "    # isinstance 检查数据类型， raise 抛出异常\n",
    "    if not isinstance(x, (int, float)):   \n",
    "        raise TypeError('bad operand type')\n",
    "    if x >= 0:\n",
    "        return x\n",
    "    else:\n",
    "        return -x"
   ]
  },
  {
   "cell_type": "code",
   "execution_count": 34,
   "metadata": {},
   "outputs": [
    {
     "ename": "TypeError",
     "evalue": "bad operand type",
     "output_type": "error",
     "traceback": [
      "\u001b[1;31m---------------------------------------------------------------------------\u001b[0m",
      "\u001b[1;31mTypeError\u001b[0m                                 Traceback (most recent call last)",
      "\u001b[1;32m<ipython-input-34-972e78064e68>\u001b[0m in \u001b[0;36m<module>\u001b[1;34m\u001b[0m\n\u001b[1;32m----> 1\u001b[1;33m \u001b[0mmy_abs\u001b[0m\u001b[1;33m(\u001b[0m\u001b[1;34m'8'\u001b[0m\u001b[1;33m)\u001b[0m\u001b[1;33m\u001b[0m\u001b[1;33m\u001b[0m\u001b[0m\n\u001b[0m",
      "\u001b[1;32m<ipython-input-33-6e4ba3ed1520>\u001b[0m in \u001b[0;36mmy_abs\u001b[1;34m(x)\u001b[0m\n\u001b[0;32m      2\u001b[0m     \u001b[1;31m# isinstance 检查数据类型， raise 抛出异常\u001b[0m\u001b[1;33m\u001b[0m\u001b[1;33m\u001b[0m\u001b[1;33m\u001b[0m\u001b[0m\n\u001b[0;32m      3\u001b[0m     \u001b[1;32mif\u001b[0m \u001b[1;32mnot\u001b[0m \u001b[0misinstance\u001b[0m\u001b[1;33m(\u001b[0m\u001b[0mx\u001b[0m\u001b[1;33m,\u001b[0m \u001b[1;33m(\u001b[0m\u001b[0mint\u001b[0m\u001b[1;33m,\u001b[0m \u001b[0mfloat\u001b[0m\u001b[1;33m)\u001b[0m\u001b[1;33m)\u001b[0m\u001b[1;33m:\u001b[0m\u001b[1;33m\u001b[0m\u001b[1;33m\u001b[0m\u001b[0m\n\u001b[1;32m----> 4\u001b[1;33m         \u001b[1;32mraise\u001b[0m \u001b[0mTypeError\u001b[0m\u001b[1;33m(\u001b[0m\u001b[1;34m'bad operand type'\u001b[0m\u001b[1;33m)\u001b[0m\u001b[1;33m\u001b[0m\u001b[1;33m\u001b[0m\u001b[0m\n\u001b[0m\u001b[0;32m      5\u001b[0m     \u001b[1;32mif\u001b[0m \u001b[0mx\u001b[0m \u001b[1;33m>=\u001b[0m \u001b[1;36m0\u001b[0m\u001b[1;33m:\u001b[0m\u001b[1;33m\u001b[0m\u001b[1;33m\u001b[0m\u001b[0m\n\u001b[0;32m      6\u001b[0m         \u001b[1;32mreturn\u001b[0m \u001b[0mx\u001b[0m\u001b[1;33m\u001b[0m\u001b[1;33m\u001b[0m\u001b[0m\n",
      "\u001b[1;31mTypeError\u001b[0m: bad operand type"
     ]
    }
   ],
   "source": [
    "my_abs('8')"
   ]
  },
  {
   "cell_type": "markdown",
   "metadata": {},
   "source": [
    "## 函数的参数"
   ]
  },
  {
   "cell_type": "markdown",
   "metadata": {},
   "source": [
    "### 位置参数"
   ]
  },
  {
   "cell_type": "code",
   "execution_count": 36,
   "metadata": {},
   "outputs": [],
   "source": [
    "def power(x, n):\n",
    "    s = 1\n",
    "    while n > 0:\n",
    "        n = n - 1\n",
    "        s = s * x\n",
    "    return s"
   ]
  },
  {
   "cell_type": "code",
   "execution_count": 37,
   "metadata": {},
   "outputs": [
    {
     "data": {
      "text/plain": [
       "25"
      ]
     },
     "execution_count": 37,
     "metadata": {},
     "output_type": "execute_result"
    }
   ],
   "source": [
    "power(5, 2)"
   ]
  },
  {
   "cell_type": "markdown",
   "metadata": {},
   "source": [
    "### 默认参数"
   ]
  },
  {
   "cell_type": "markdown",
   "metadata": {},
   "source": [
    "默认参数必须在位置参数后  \n",
    "默认参数必须指向**不可变对象**"
   ]
  },
  {
   "cell_type": "code",
   "execution_count": 38,
   "metadata": {},
   "outputs": [],
   "source": [
    "def power(x, n=2):\n",
    "    s = 1\n",
    "    while n > 0:\n",
    "        n = n - 1\n",
    "        s = s * x\n",
    "    return s"
   ]
  },
  {
   "cell_type": "code",
   "execution_count": 39,
   "metadata": {
    "scrolled": true
   },
   "outputs": [
    {
     "data": {
      "text/plain": [
       "25"
      ]
     },
     "execution_count": 39,
     "metadata": {},
     "output_type": "execute_result"
    }
   ],
   "source": [
    "power(5)"
   ]
  },
  {
   "cell_type": "markdown",
   "metadata": {},
   "source": [
    "### 可变参数"
   ]
  },
  {
   "cell_type": "markdown",
   "metadata": {},
   "source": [
    "可变参数允许你传入0个或任意个参数，这些参数在函数内部自动组装为一个tuple"
   ]
  },
  {
   "cell_type": "code",
   "execution_count": 40,
   "metadata": {},
   "outputs": [],
   "source": [
    "def calc(*numbers):\n",
    "    sum = 0\n",
    "    for n in numbers:\n",
    "        sum = sum + n * n\n",
    "    return sum"
   ]
  },
  {
   "cell_type": "markdown",
   "metadata": {},
   "source": [
    "仅仅在参数前面加了一个*号。在函数内部，参数numbers接收到的是一个`tuple`"
   ]
  },
  {
   "cell_type": "code",
   "execution_count": 41,
   "metadata": {},
   "outputs": [
    {
     "data": {
      "text/plain": [
       "14"
      ]
     },
     "execution_count": 41,
     "metadata": {},
     "output_type": "execute_result"
    }
   ],
   "source": [
    "calc(1, 2, 3)"
   ]
  },
  {
   "cell_type": "code",
   "execution_count": 42,
   "metadata": {},
   "outputs": [
    {
     "data": {
      "text/plain": [
       "0"
      ]
     },
     "execution_count": 42,
     "metadata": {},
     "output_type": "execute_result"
    }
   ],
   "source": [
    "calc()"
   ]
  },
  {
   "cell_type": "markdown",
   "metadata": {},
   "source": [
    "在list或tuple前面加一个*号，把list或tuple的元素变成可变参数传进去"
   ]
  },
  {
   "cell_type": "code",
   "execution_count": 43,
   "metadata": {},
   "outputs": [
    {
     "data": {
      "text/plain": [
       "50"
      ]
     },
     "execution_count": 43,
     "metadata": {},
     "output_type": "execute_result"
    }
   ],
   "source": [
    "nums = [3, 4, 5]\n",
    "calc(*nums)"
   ]
  },
  {
   "cell_type": "markdown",
   "metadata": {},
   "source": [
    "### 关键字参数"
   ]
  },
  {
   "cell_type": "markdown",
   "metadata": {},
   "source": [
    "关键字参数允许你传入0个或任意个含参数名的参数，这些关键字参数在函数内部自动组装为一个dict"
   ]
  },
  {
   "cell_type": "code",
   "execution_count": 44,
   "metadata": {},
   "outputs": [],
   "source": [
    "def person(name, age, **kw):\n",
    "    print('name:', name, 'age:', age, 'other:', kw)"
   ]
  },
  {
   "cell_type": "markdown",
   "metadata": {},
   "source": [
    "可只传入必选参数"
   ]
  },
  {
   "cell_type": "code",
   "execution_count": 45,
   "metadata": {},
   "outputs": [
    {
     "name": "stdout",
     "output_type": "stream",
     "text": [
      "name: heinrich age: 18 other: {}\n"
     ]
    }
   ],
   "source": [
    "person('heinrich', 18)"
   ]
  },
  {
   "cell_type": "markdown",
   "metadata": {},
   "source": [
    "除必选参数，传入其他任意参数--自动组装成字典"
   ]
  },
  {
   "cell_type": "code",
   "execution_count": 46,
   "metadata": {},
   "outputs": [
    {
     "name": "stdout",
     "output_type": "stream",
     "text": [
      "name: heinrich age: 18 other: {'city': 'bj', 'gender': 'male'}\n"
     ]
    }
   ],
   "source": [
    "person('heinrich', 18, city='bj', gender='male')"
   ]
  },
  {
   "cell_type": "markdown",
   "metadata": {},
   "source": [
    "在dict前面加个**号，把dict的元素变成关键字参数传进去"
   ]
  },
  {
   "cell_type": "code",
   "execution_count": 47,
   "metadata": {},
   "outputs": [
    {
     "name": "stdout",
     "output_type": "stream",
     "text": [
      "name: heinrich age: 18 other: {'city': 'bj', 'gender': 'male'}\n"
     ]
    }
   ],
   "source": [
    "extra = {'city' : 'bj', 'gender' : 'male'}\n",
    "person('heinrich', 18, **extra)"
   ]
  },
  {
   "cell_type": "markdown",
   "metadata": {},
   "source": [
    "### 命名关键字"
   ]
  },
  {
   "cell_type": "markdown",
   "metadata": {},
   "source": [
    "限制接受已经命名的关键字参数  \n",
    "在位置参数后加一个*号分隔"
   ]
  },
  {
   "cell_type": "code",
   "execution_count": 49,
   "metadata": {},
   "outputs": [],
   "source": [
    "def person(name, age, *, city, job):\n",
    "    print(name, age, city, job)"
   ]
  },
  {
   "cell_type": "markdown",
   "metadata": {},
   "source": [
    "例如gender参数并不在函数中，会抛出错误"
   ]
  },
  {
   "cell_type": "code",
   "execution_count": 50,
   "metadata": {},
   "outputs": [
    {
     "ename": "TypeError",
     "evalue": "person() got an unexpected keyword argument 'gender'",
     "output_type": "error",
     "traceback": [
      "\u001b[1;31m---------------------------------------------------------------------------\u001b[0m",
      "\u001b[1;31mTypeError\u001b[0m                                 Traceback (most recent call last)",
      "\u001b[1;32m<ipython-input-50-6265b566e4a6>\u001b[0m in \u001b[0;36m<module>\u001b[1;34m\u001b[0m\n\u001b[1;32m----> 1\u001b[1;33m \u001b[0mperson\u001b[0m\u001b[1;33m(\u001b[0m\u001b[1;34m'Jack'\u001b[0m\u001b[1;33m,\u001b[0m \u001b[1;36m24\u001b[0m\u001b[1;33m,\u001b[0m \u001b[0mcity\u001b[0m\u001b[1;33m=\u001b[0m\u001b[1;34m'Beijing'\u001b[0m\u001b[1;33m,\u001b[0m \u001b[0mgender\u001b[0m\u001b[1;33m=\u001b[0m\u001b[1;34m'male'\u001b[0m\u001b[1;33m)\u001b[0m\u001b[1;33m\u001b[0m\u001b[1;33m\u001b[0m\u001b[0m\n\u001b[0m",
      "\u001b[1;31mTypeError\u001b[0m: person() got an unexpected keyword argument 'gender'"
     ]
    }
   ],
   "source": [
    " person('Jack', 24, city='Beijing', gender='male')"
   ]
  },
  {
   "cell_type": "markdown",
   "metadata": {},
   "source": [
    "命名关键字参数可默认"
   ]
  },
  {
   "cell_type": "code",
   "execution_count": 52,
   "metadata": {},
   "outputs": [],
   "source": [
    "def person(name, age, *, city=None, job=None):\n",
    "    print(name, age, city, job)"
   ]
  },
  {
   "cell_type": "code",
   "execution_count": 53,
   "metadata": {},
   "outputs": [
    {
     "name": "stdout",
     "output_type": "stream",
     "text": [
      "heinrich 18 None cda\n"
     ]
    }
   ],
   "source": [
    "person('heinrich', 18, job='cda')"
   ]
  },
  {
   "cell_type": "markdown",
   "metadata": {},
   "source": [
    "如果函数定义中已经有了一个可变参数，后面跟着的命名关键字参数就不再需要一个特殊分隔符*了  "
   ]
  },
  {
   "cell_type": "code",
   "execution_count": 54,
   "metadata": {},
   "outputs": [],
   "source": [
    "def person(name, age, *args, city, job=None):\n",
    "    print(name, age, args, city, job)"
   ]
  },
  {
   "cell_type": "markdown",
   "metadata": {},
   "source": [
    "命名关键字必须传入参数名，与位置参数不一样"
   ]
  },
  {
   "cell_type": "code",
   "execution_count": 55,
   "metadata": {},
   "outputs": [
    {
     "ename": "TypeError",
     "evalue": "person() missing 1 required keyword-only argument: 'city'",
     "output_type": "error",
     "traceback": [
      "\u001b[1;31m---------------------------------------------------------------------------\u001b[0m",
      "\u001b[1;31mTypeError\u001b[0m                                 Traceback (most recent call last)",
      "\u001b[1;32m<ipython-input-55-ab82c70b96ab>\u001b[0m in \u001b[0;36m<module>\u001b[1;34m\u001b[0m\n\u001b[1;32m----> 1\u001b[1;33m \u001b[0mperson\u001b[0m\u001b[1;33m(\u001b[0m\u001b[1;34m'heinrich'\u001b[0m\u001b[1;33m,\u001b[0m \u001b[1;36m18\u001b[0m\u001b[1;33m,\u001b[0m \u001b[1;34m'这'\u001b[0m\u001b[1;33m,\u001b[0m \u001b[1;34m'是'\u001b[0m\u001b[1;33m,\u001b[0m \u001b[1;34m'可变'\u001b[0m\u001b[1;33m,\u001b[0m \u001b[1;34m'参数'\u001b[0m\u001b[1;33m,\u001b[0m \u001b[1;34m'北京'\u001b[0m\u001b[1;33m)\u001b[0m\u001b[1;33m\u001b[0m\u001b[1;33m\u001b[0m\u001b[0m\n\u001b[0m",
      "\u001b[1;31mTypeError\u001b[0m: person() missing 1 required keyword-only argument: 'city'"
     ]
    }
   ],
   "source": [
    "person('heinrich', 18, '这', '是', '可变', '参数', '北京')"
   ]
  },
  {
   "cell_type": "code",
   "execution_count": 56,
   "metadata": {},
   "outputs": [
    {
     "name": "stdout",
     "output_type": "stream",
     "text": [
      "heinrich 18 ('这', '是', '可变', '参数') 北京 None\n"
     ]
    }
   ],
   "source": [
    "person('heinrich', 18, '这', '是', '可变', '参数', city='北京')"
   ]
  },
  {
   "cell_type": "markdown",
   "metadata": {},
   "source": [
    "## 递归函数"
   ]
  },
  {
   "cell_type": "code",
   "execution_count": 57,
   "metadata": {},
   "outputs": [],
   "source": [
    "def fact(n):\n",
    "    if n==1:\n",
    "        return 1\n",
    "    return n * fact(n - 1)"
   ]
  },
  {
   "cell_type": "code",
   "execution_count": 58,
   "metadata": {},
   "outputs": [
    {
     "data": {
      "text/plain": [
       "120"
      ]
     },
     "execution_count": 58,
     "metadata": {},
     "output_type": "execute_result"
    }
   ],
   "source": [
    "fact(5)"
   ]
  },
  {
   "cell_type": "markdown",
   "metadata": {},
   "source": [
    "递归函数实现汉诺塔"
   ]
  },
  {
   "cell_type": "code",
   "execution_count": 59,
   "metadata": {},
   "outputs": [],
   "source": [
    "def move(n, a, b, c):\n",
    "    if n == 1:\n",
    "        print(a, '-->', c)\n",
    "    else:\n",
    "        move(n-1, a, c, b) #把a上的n-1个盘子借助c移动到b\n",
    "        move(1, a, b, c) #把a上1个盘子移动到c\n",
    "        move(n-1, b, a, c) #把b上的n-1个盘子借助a移动到c"
   ]
  },
  {
   "cell_type": "code",
   "execution_count": 60,
   "metadata": {},
   "outputs": [
    {
     "name": "stdout",
     "output_type": "stream",
     "text": [
      "A --> C\n",
      "A --> B\n",
      "C --> B\n",
      "A --> C\n",
      "B --> A\n",
      "B --> C\n",
      "A --> C\n"
     ]
    }
   ],
   "source": [
    "move(3, 'A', 'B', 'C')"
   ]
  },
  {
   "cell_type": "markdown",
   "metadata": {},
   "source": [
    "## 高级特性"
   ]
  },
  {
   "cell_type": "markdown",
   "metadata": {},
   "source": [
    "### 切片"
   ]
  },
  {
   "cell_type": "code",
   "execution_count": 8,
   "metadata": {},
   "outputs": [],
   "source": [
    "L = list(range(100))"
   ]
  },
  {
   "cell_type": "code",
   "execution_count": 9,
   "metadata": {},
   "outputs": [
    {
     "data": {
      "text/plain": [
       "[0, 1, 2]"
      ]
     },
     "execution_count": 9,
     "metadata": {},
     "output_type": "execute_result"
    }
   ],
   "source": [
    "# 前3\n",
    "L[:3]"
   ]
  },
  {
   "cell_type": "code",
   "execution_count": 10,
   "metadata": {},
   "outputs": [
    {
     "data": {
      "text/plain": [
       "[97, 98, 99]"
      ]
     },
     "execution_count": 10,
     "metadata": {},
     "output_type": "execute_result"
    }
   ],
   "source": [
    "# 后3\n",
    "L[97:]"
   ]
  },
  {
   "cell_type": "code",
   "execution_count": 14,
   "metadata": {},
   "outputs": [
    {
     "data": {
      "text/plain": [
       "[97, 98, 99]"
      ]
     },
     "execution_count": 14,
     "metadata": {},
     "output_type": "execute_result"
    }
   ],
   "source": [
    "# 后3\n",
    "L[-3:]"
   ]
  },
  {
   "cell_type": "code",
   "execution_count": 11,
   "metadata": {},
   "outputs": [
    {
     "data": {
      "text/plain": [
       "[0, 10, 20, 30, 40, 50, 60, 70, 80, 90]"
      ]
     },
     "execution_count": 11,
     "metadata": {},
     "output_type": "execute_result"
    }
   ],
   "source": [
    "# 隔10取1\n",
    "L[::10]"
   ]
  },
  {
   "cell_type": "code",
   "execution_count": 12,
   "metadata": {},
   "outputs": [
    {
     "data": {
      "text/plain": [
       "[10, 12, 14, 16, 18]"
      ]
     },
     "execution_count": 12,
     "metadata": {},
     "output_type": "execute_result"
    }
   ],
   "source": [
    "# 10-20(不包括)中隔2取1\n",
    "L[10:20:2]"
   ]
  },
  {
   "cell_type": "markdown",
   "metadata": {},
   "source": [
    "**tuple和string也可以进行切片操作**"
   ]
  },
  {
   "cell_type": "markdown",
   "metadata": {},
   "source": [
    "切片实现`trim()`函数，去除字符首尾空格"
   ]
  },
  {
   "cell_type": "code",
   "execution_count": 64,
   "metadata": {},
   "outputs": [],
   "source": [
    "def trim(s):\n",
    "    if len(s) == 0:\n",
    "        return(s)\n",
    "    elif s[:1] == ' ':\n",
    "        s = trim(s[1:])\n",
    "    elif s[-1] == ' ':\n",
    "        s = trim(s[:-1])\n",
    "    return s\n",
    "        "
   ]
  },
  {
   "cell_type": "markdown",
   "metadata": {},
   "source": [
    "### 迭代"
   ]
  },
  {
   "cell_type": "markdown",
   "metadata": {},
   "source": [
    "凡是可迭代对象均可进行for循环，通过`collections`模块的`Iterable`类型判断"
   ]
  },
  {
   "cell_type": "code",
   "execution_count": 72,
   "metadata": {},
   "outputs": [
    {
     "name": "stdout",
     "output_type": "stream",
     "text": [
      "字符串是否可迭代: True\n",
      "列表是否可迭代: True\n",
      "整数是否可迭代: False\n"
     ]
    }
   ],
   "source": [
    "from collections import Iterable\n",
    "print('字符串是否可迭代:', isinstance('abc', Iterable))\n",
    "print('列表是否可迭代:', isinstance([1, 2, 3], Iterable))\n",
    "print('整数是否可迭代:', isinstance(123, Iterable))"
   ]
  },
  {
   "cell_type": "code",
   "execution_count": 78,
   "metadata": {},
   "outputs": [
    {
     "name": "stdout",
     "output_type": "stream",
     "text": [
      "a 1\n",
      "b 2\n",
      "c 3\n"
     ]
    }
   ],
   "source": [
    "d = {'a': 1, 'b': 2, 'c': 3}\n",
    "for k, v in d.items():\n",
    "    print(k, v)"
   ]
  },
  {
   "cell_type": "markdown",
   "metadata": {},
   "source": [
    "Python内置的`enumerate`函数可以把一个list变成索引-元素对，这样就可以在for循环中同时迭代索引和元素本身："
   ]
  },
  {
   "cell_type": "code",
   "execution_count": 80,
   "metadata": {},
   "outputs": [
    {
     "name": "stdout",
     "output_type": "stream",
     "text": [
      "0 A\n",
      "1 B\n",
      "2 C\n"
     ]
    }
   ],
   "source": [
    "for i, value in enumerate(['A', 'B', 'C']):\n",
    "    print(i, value)"
   ]
  },
  {
   "cell_type": "markdown",
   "metadata": {},
   "source": [
    "for循环里，同时引用了两个变量"
   ]
  },
  {
   "cell_type": "code",
   "execution_count": 96,
   "metadata": {},
   "outputs": [
    {
     "name": "stdout",
     "output_type": "stream",
     "text": [
      "1 1 1\n",
      "2 4 16\n",
      "3 9 81\n"
     ]
    }
   ],
   "source": [
    "for x, y in [(1, 1), (2, 4), (3, 9)]:\n",
    "    print(x, y, y**2)"
   ]
  },
  {
   "cell_type": "markdown",
   "metadata": {},
   "source": [
    "迭代查找一个list中最小和最大值"
   ]
  },
  {
   "cell_type": "code",
   "execution_count": 110,
   "metadata": {},
   "outputs": [],
   "source": [
    "def findMinAndMax(L):\n",
    "    if len(L) == 0:\n",
    "        return(None, None)\n",
    "    elif len(L) == 1:\n",
    "        return(L[0], L[0])\n",
    "    else :\n",
    "        MIN = MAX = L[0]\n",
    "        for i in L:\n",
    "            if i < MIN:\n",
    "                MIN = i\n",
    "            elif i >= MAX:\n",
    "                MAX = i\n",
    "        return (MIN,MAX)"
   ]
  },
  {
   "cell_type": "markdown",
   "metadata": {},
   "source": [
    "### 列表生成式"
   ]
  },
  {
   "cell_type": "code",
   "execution_count": 115,
   "metadata": {},
   "outputs": [
    {
     "data": {
      "text/plain": [
       "[1, 4, 9, 16, 25, 36, 49, 64, 81, 100]"
      ]
     },
     "execution_count": 115,
     "metadata": {},
     "output_type": "execute_result"
    }
   ],
   "source": [
    "[x * x for x in range(1, 11)]"
   ]
  },
  {
   "cell_type": "markdown",
   "metadata": {},
   "source": [
    "for循环后面还可以加上if判断"
   ]
  },
  {
   "cell_type": "code",
   "execution_count": 116,
   "metadata": {},
   "outputs": [
    {
     "data": {
      "text/plain": [
       "[4, 16, 36, 64, 100]"
      ]
     },
     "execution_count": 116,
     "metadata": {},
     "output_type": "execute_result"
    }
   ],
   "source": [
    "[x * x for x in range(1, 11) if x % 2 == 0]"
   ]
  },
  {
   "cell_type": "markdown",
   "metadata": {},
   "source": [
    "常用的两层for循环"
   ]
  },
  {
   "cell_type": "code",
   "execution_count": 117,
   "metadata": {},
   "outputs": [
    {
     "data": {
      "text/plain": [
       "['AX', 'AY', 'AZ', 'BX', 'BY', 'BZ', 'CX', 'CY', 'CZ']"
      ]
     },
     "execution_count": 117,
     "metadata": {},
     "output_type": "execute_result"
    }
   ],
   "source": [
    "[m + n for m in 'ABC' for n in 'XYZ']"
   ]
  },
  {
   "cell_type": "markdown",
   "metadata": {},
   "source": [
    "列出当前目录文件名"
   ]
  },
  {
   "cell_type": "code",
   "execution_count": 120,
   "metadata": {},
   "outputs": [
    {
     "data": {
      "text/plain": [
       "'/Users/heinrich/Heinrich-blog/python笔记'"
      ]
     },
     "execution_count": 120,
     "metadata": {},
     "output_type": "execute_result"
    }
   ],
   "source": [
    "pwd"
   ]
  },
  {
   "cell_type": "code",
   "execution_count": 121,
   "metadata": {},
   "outputs": [
    {
     "data": {
      "text/plain": [
       "['.ipynb_checkpoints', '廖雪峰python笔记.ipynb']"
      ]
     },
     "execution_count": 121,
     "metadata": {},
     "output_type": "execute_result"
    }
   ],
   "source": [
    "import os # 导入os模块\n",
    "[d for d in os.listdir('.')] # os.listdir可以列出文件和目录"
   ]
  },
  {
   "cell_type": "markdown",
   "metadata": {},
   "source": [
    "列表生成式也可用两个变量生成list"
   ]
  },
  {
   "cell_type": "code",
   "execution_count": 122,
   "metadata": {},
   "outputs": [
    {
     "data": {
      "text/plain": [
       "['x=A', 'y=B', 'z=C']"
      ]
     },
     "execution_count": 122,
     "metadata": {},
     "output_type": "execute_result"
    }
   ],
   "source": [
    "d = {'x': 'A', 'y': 'B', 'z': 'C' }\n",
    "[k + '=' + v for k, v in d.items()]"
   ]
  },
  {
   "cell_type": "markdown",
   "metadata": {},
   "source": [
    "列表生成式的条件应用"
   ]
  },
  {
   "cell_type": "code",
   "execution_count": 124,
   "metadata": {},
   "outputs": [
    {
     "name": "stdout",
     "output_type": "stream",
     "text": [
      "['hello', 'world', 'apple']\n"
     ]
    }
   ],
   "source": [
    "L1 = ['Hello', 'World', 18, 'Apple', None]\n",
    "L2 = [s.lower() for s in L1 if isinstance(s, str)]\n",
    "print(L2)"
   ]
  },
  {
   "cell_type": "markdown",
   "metadata": {},
   "source": [
    "### 生成器"
   ]
  },
  {
   "cell_type": "markdown",
   "metadata": {},
   "source": [
    "将列表生成式的[]改为()即可"
   ]
  },
  {
   "cell_type": "code",
   "execution_count": 125,
   "metadata": {},
   "outputs": [
    {
     "name": "stdout",
     "output_type": "stream",
     "text": [
      "<generator object <genexpr> at 0x103bce7c8>\n"
     ]
    }
   ],
   "source": [
    "g = (x * x for x in range(10))\n",
    "print(g)"
   ]
  },
  {
   "cell_type": "markdown",
   "metadata": {},
   "source": [
    "生成器也是可迭代对象，利用for循环"
   ]
  },
  {
   "cell_type": "code",
   "execution_count": 126,
   "metadata": {},
   "outputs": [
    {
     "name": "stdout",
     "output_type": "stream",
     "text": [
      "0\n",
      "1\n",
      "4\n",
      "9\n",
      "16\n",
      "25\n",
      "36\n",
      "49\n",
      "64\n",
      "81\n"
     ]
    }
   ],
   "source": [
    "for n in g:\n",
    "    print(n)"
   ]
  },
  {
   "cell_type": "markdown",
   "metadata": {},
   "source": [
    "利用函数生成复杂的生成器，将`print`改为`yield`即可  \n",
    "一个函数如果含有`yield`关键字，则变为一个generator"
   ]
  },
  {
   "cell_type": "code",
   "execution_count": 137,
   "metadata": {},
   "outputs": [],
   "source": [
    "# 斐波拉契数列\n",
    "def fib(max):\n",
    "    n, a, b = 0, 0, 1\n",
    "    while n < max:\n",
    "        yield b\n",
    "        a, b = b, a+b\n",
    "        n = n + 1\n",
    "    return 'done'\n",
    "        "
   ]
  },
  {
   "cell_type": "code",
   "execution_count": 138,
   "metadata": {},
   "outputs": [
    {
     "name": "stdout",
     "output_type": "stream",
     "text": [
      "1\n",
      "1\n",
      "2\n",
      "3\n",
      "5\n",
      "8\n"
     ]
    }
   ],
   "source": [
    "for n in fib(6):\n",
    "    print(n)"
   ]
  },
  {
   "cell_type": "markdown",
   "metadata": {},
   "source": [
    "生成器--杨辉三角"
   ]
  },
  {
   "cell_type": "code",
   "execution_count": 148,
   "metadata": {},
   "outputs": [],
   "source": [
    "def triangles(max):\n",
    "    L = [1]\n",
    "    n = 0\n",
    "    while n < max:\n",
    "        yield L\n",
    "        n = n + 1\n",
    "        L = [1] + [L[i] + L[i+1] for i in range(len(L) - 1)] + [1]\n",
    "    "
   ]
  },
  {
   "cell_type": "code",
   "execution_count": 149,
   "metadata": {},
   "outputs": [
    {
     "name": "stdout",
     "output_type": "stream",
     "text": [
      "[1]\n",
      "[1, 1]\n",
      "[1, 2, 1]\n",
      "[1, 3, 3, 1]\n",
      "[1, 4, 6, 4, 1]\n",
      "[1, 5, 10, 10, 5, 1]\n",
      "[1, 6, 15, 20, 15, 6, 1]\n",
      "[1, 7, 21, 35, 35, 21, 7, 1]\n",
      "[1, 8, 28, 56, 70, 56, 28, 8, 1]\n",
      "[1, 9, 36, 84, 126, 126, 84, 36, 9, 1]\n"
     ]
    }
   ],
   "source": [
    "for n in triangles(10):\n",
    "    print(n)"
   ]
  },
  {
   "cell_type": "markdown",
   "metadata": {},
   "source": [
    "### 迭代器"
   ]
  },
  {
   "cell_type": "markdown",
   "metadata": {},
   "source": [
    "凡是可作用于`for`循环的对象都是`Iterable`类型  \n",
    "凡是可作用于`next()`函数的对象都是`Iterator`类型，它们表示一个惰性计算的序列  \n",
    "集合数据类型如list、dict、str等是`Iterable`但不是`Iterator`，不过可以通过`iter()`函数获得一个`Iterator`对象"
   ]
  },
  {
   "cell_type": "code",
   "execution_count": 166,
   "metadata": {},
   "outputs": [
    {
     "data": {
      "text/plain": [
       "True"
      ]
     },
     "execution_count": 166,
     "metadata": {},
     "output_type": "execute_result"
    }
   ],
   "source": [
    "from collections import Iterator\n",
    "isinstance(iter('abc'), Iterator)"
   ]
  },
  {
   "cell_type": "markdown",
   "metadata": {},
   "source": [
    "## 高阶函数"
   ]
  },
  {
   "cell_type": "markdown",
   "metadata": {},
   "source": [
    "一个函数可以接收另一个函数(传递函数名，指向函数的变量)作为参数，这种函数就称之为高阶函数。"
   ]
  },
  {
   "cell_type": "code",
   "execution_count": 167,
   "metadata": {},
   "outputs": [
    {
     "data": {
      "text/plain": [
       "8"
      ]
     },
     "execution_count": 167,
     "metadata": {},
     "output_type": "execute_result"
    }
   ],
   "source": [
    "# 一个简单的高阶函数\n",
    "def add(x, y, f):\n",
    "    return f(x) + f(y)\n",
    "add(3, -5, abs)"
   ]
  },
  {
   "cell_type": "markdown",
   "metadata": {},
   "source": [
    "### map/reduce"
   ]
  },
  {
   "cell_type": "markdown",
   "metadata": {},
   "source": [
    "`map()`函数接收两个参数，第一个是函数，第二个是Iterable，map将传入的函数依次作用到序列的每个元素，并把结果作为新的Iterator返回"
   ]
  },
  {
   "cell_type": "code",
   "execution_count": 176,
   "metadata": {},
   "outputs": [
    {
     "name": "stdout",
     "output_type": "stream",
     "text": [
      "[1, 4, 9]\n"
     ]
    }
   ],
   "source": [
    "def f(x):\n",
    "    return x * x\n",
    "L1 = [1, 2, 3]\n",
    "L2 = map(f, L1)\n",
    "print(list(L2))"
   ]
  },
  {
   "cell_type": "markdown",
   "metadata": {},
   "source": [
    "`reduce`把一个函数作用在一个序列[x1, x2, x3, ...]上，这个函数必须接收两个参数，reduce把结果继续和序列的下一个元素做累积计算，其效果就是：`reduce(f, [x1, x2, x3, x4]) = f(f(f(x1, x2), x3), x4)`"
   ]
  },
  {
   "cell_type": "code",
   "execution_count": 177,
   "metadata": {},
   "outputs": [
    {
     "data": {
      "text/plain": [
       "13579"
      ]
     },
     "execution_count": 177,
     "metadata": {},
     "output_type": "execute_result"
    }
   ],
   "source": [
    "# 将序列转化为整数\n",
    "from functools import reduce\n",
    "def fn(x, y):\n",
    "    return x * 10 + y\n",
    "reduce(fn, [1, 3, 5, 7, 9])"
   ]
  },
  {
   "cell_type": "markdown",
   "metadata": {},
   "source": [
    "将数字型的`str`变为`int`型"
   ]
  },
  {
   "cell_type": "code",
   "execution_count": 178,
   "metadata": {},
   "outputs": [
    {
     "data": {
      "text/plain": [
       "12356"
      ]
     },
     "execution_count": 178,
     "metadata": {},
     "output_type": "execute_result"
    }
   ],
   "source": [
    "from functools import reduce\n",
    "\n",
    "digits = {'0':0, '1':1, '2':2, '3':3, '4':4, '5':5, '6':6, '7':7, '8':8, '9':9}\n",
    "\n",
    "def str2int(s):\n",
    "    def char2num(s):\n",
    "        return digits[s]\n",
    "    def fn(x, y):\n",
    "        return x * 10 + y\n",
    "    return reduce(fn, map(char2num, s))\n",
    "\n",
    "str2int('12356')"
   ]
  },
  {
   "cell_type": "markdown",
   "metadata": {},
   "source": [
    "`map`将姓名规范化"
   ]
  },
  {
   "cell_type": "code",
   "execution_count": 187,
   "metadata": {},
   "outputs": [
    {
     "name": "stdout",
     "output_type": "stream",
     "text": [
      "['Adam', 'Lisa', 'Bart']\n"
     ]
    }
   ],
   "source": [
    "def normalize(s):\n",
    "    return s[0].upper() + s[1:].lower()\n",
    " \n",
    "L1 = ['adam', 'LISA', 'barT'] \n",
    "L2 = list(map(normalize, L1))\n",
    "print(L2)"
   ]
  },
  {
   "cell_type": "markdown",
   "metadata": {},
   "source": [
    "`reduce`求积"
   ]
  },
  {
   "cell_type": "code",
   "execution_count": 188,
   "metadata": {},
   "outputs": [
    {
     "data": {
      "text/plain": [
       "945"
      ]
     },
     "execution_count": 188,
     "metadata": {},
     "output_type": "execute_result"
    }
   ],
   "source": [
    "from functools import reduce\n",
    "\n",
    "def prod(L):\n",
    "    return reduce(lambda x, y: x * y, L)\n",
    "\n",
    "prod([3, 5, 7, 9])"
   ]
  },
  {
   "cell_type": "code",
   "execution_count": 189,
   "metadata": {},
   "outputs": [
    {
     "data": {
      "text/plain": [
       "945"
      ]
     },
     "execution_count": 189,
     "metadata": {},
     "output_type": "execute_result"
    }
   ],
   "source": [
    "def prod(L):\n",
    "    def multi(x, y):\n",
    "        return x * y\n",
    "    return reduce(multi, L)\n",
    "\n",
    "prod([3, 5, 7, 9])"
   ]
  },
  {
   "cell_type": "markdown",
   "metadata": {},
   "source": [
    "利用`map`和`reduce`编写一个str2float函数，把字符串'123.456'转换成浮点数123.456"
   ]
  },
  {
   "cell_type": "code",
   "execution_count": 215,
   "metadata": {},
   "outputs": [
    {
     "data": {
      "text/plain": [
       "123.456"
      ]
     },
     "execution_count": 215,
     "metadata": {},
     "output_type": "execute_result"
    }
   ],
   "source": [
    "from functools import reduce\n",
    "\n",
    "digits = {'0':0, '1':1, '2':2, '3':3, '4':4, '5':5, '6':6, '7':7, '8':8, '9':9}\n",
    "\n",
    "def str2float(s):\n",
    "    def char2num(s):\n",
    "        return digits[s]\n",
    "    def fn1(x, y):\n",
    "        return x * 10 + y\n",
    "    def fn2(x, y):\n",
    "        return x * 0.1 + y\n",
    "    return reduce(fn1, map(char2num, s.split('.')[0])) + \\\n",
    "                reduce(fn2, map(char2num, s.split('.')[1][::-1])) * 0.1\n",
    "str2float('123.456')"
   ]
  },
  {
   "cell_type": "markdown",
   "metadata": {},
   "source": [
    "### filter"
   ]
  },
  {
   "cell_type": "markdown",
   "metadata": {},
   "source": [
    "`filter()`接收一个函数和一个序列,把传入的函数依次作用于每个元素，然后根据返回值是`True`还是`False`决定保留还是丢弃该元素"
   ]
  },
  {
   "cell_type": "code",
   "execution_count": 216,
   "metadata": {},
   "outputs": [
    {
     "data": {
      "text/plain": [
       "[1, 3, 5, 7, 9, 11, 13]"
      ]
     },
     "execution_count": 216,
     "metadata": {},
     "output_type": "execute_result"
    }
   ],
   "source": [
    "def is_odd(n):\n",
    "    return n % 2 == 1\n",
    "\n",
    "list(filter(is_odd, list(range(15))))"
   ]
  },
  {
   "cell_type": "markdown",
   "metadata": {},
   "source": [
    "素数生成器"
   ]
  },
  {
   "cell_type": "code",
   "execution_count": 219,
   "metadata": {},
   "outputs": [],
   "source": [
    "# 定义一个从3开始的奇数序列\n",
    "def _odd_iter():\n",
    "    n = 1\n",
    "    while True:\n",
    "        n = n + 2\n",
    "        yield n\n",
    "\n",
    "# 定义筛选函数\n",
    "def _not_divisible(n):\n",
    "    return lambda x: x % n > 0\n",
    "\n",
    "# 定义素数生成器\n",
    "def primes():\n",
    "    yield 2\n",
    "    it = _odd_iter() # 初始序列\n",
    "    while 1:\n",
    "        n = next(it) # 返回序列的第一个数\n",
    "        yield n\n",
    "        it = filter(_not_divisible(n), it)\n",
    "    "
   ]
  },
  {
   "cell_type": "code",
   "execution_count": 222,
   "metadata": {},
   "outputs": [
    {
     "name": "stdout",
     "output_type": "stream",
     "text": [
      "2\n",
      "3\n",
      "5\n",
      "7\n",
      "11\n",
      "13\n",
      "17\n",
      "19\n",
      "23\n",
      "29\n",
      "31\n",
      "37\n",
      "41\n",
      "43\n",
      "47\n"
     ]
    }
   ],
   "source": [
    "for n in primes():\n",
    "    if n < 50:\n",
    "        print(n)\n",
    "    else:\n",
    "        break"
   ]
  },
  {
   "cell_type": "markdown",
   "metadata": {},
   "source": [
    "利用`filter()`筛选回数"
   ]
  },
  {
   "cell_type": "code",
   "execution_count": 249,
   "metadata": {},
   "outputs": [
    {
     "name": "stdout",
     "output_type": "stream",
     "text": [
      "[1, 2, 3, 4, 5, 6, 7, 8, 9, 11, 22, 33, 44, 55, 66, 77, 88, 99, 101, 111, 121, 131, 141, 151, 161, 171, 181, 191]\n"
     ]
    }
   ],
   "source": [
    "def is_palindrome(x):\n",
    "    return str(x) == str(x)[::-1]\n",
    "\n",
    "output = filter(is_palindrome, range(1, 200))\n",
    "print(list(output))"
   ]
  },
  {
   "cell_type": "code",
   "execution_count": 250,
   "metadata": {},
   "outputs": [
    {
     "name": "stdout",
     "output_type": "stream",
     "text": [
      "[1, 2, 3, 4, 5, 6, 7, 8, 9, 11, 22, 33, 44, 55, 66, 77, 88, 99, 101, 111, 121, 131, 141, 151, 161, 171, 181, 191]\n"
     ]
    }
   ],
   "source": [
    "output = filter(lambda x: str(x) == str(x)[::-1], range(1, 200))\n",
    "print(list(output))"
   ]
  },
  {
   "cell_type": "markdown",
   "metadata": {},
   "source": [
    "### sorted"
   ]
  },
  {
   "cell_type": "markdown",
   "metadata": {},
   "source": [
    "`sorted()`也是一个高阶函数,关键在于实现一个映射函数(key)。  \n",
    "key指定的函数将作用于list的每一个元素上，并根据key函数返回的结果进行排序"
   ]
  },
  {
   "cell_type": "code",
   "execution_count": 251,
   "metadata": {},
   "outputs": [
    {
     "data": {
      "text/plain": [
       "['Zoo', 'Credit', 'bob', 'about']"
      ]
     },
     "execution_count": 251,
     "metadata": {},
     "output_type": "execute_result"
    }
   ],
   "source": [
    "sorted(['bob', 'about', 'Zoo', 'Credit'], key=str.lower, reverse=True) "
   ]
  },
  {
   "cell_type": "code",
   "execution_count": 266,
   "metadata": {},
   "outputs": [
    {
     "name": "stdout",
     "output_type": "stream",
     "text": [
      "[('Adam', 92), ('Bart', 66), ('Bob', 75), ('Lisa', 88)]\n",
      "[('Adam', 92), ('Lisa', 88), ('Bob', 75), ('Bart', 66)]\n"
     ]
    }
   ],
   "source": [
    "def by_name(t):\n",
    "    return t[0]\n",
    "\n",
    "def by_score(t):\n",
    "    return t[1]\n",
    "\n",
    "\n",
    "L = [('Bob', 75), ('Adam', 92), ('Bart', 66), ('Lisa', 88)]\n",
    "L1 = sorted(L, key=by_name)\n",
    "print(L1)\n",
    "\n",
    "\n",
    "L = [('Bob', 75), ('Adam', 92), ('Bart', 66), ('Lisa', 88)]\n",
    "L2 = sorted(L, key=by_score, reverse=True)\n",
    "print(L2)"
   ]
  },
  {
   "cell_type": "markdown",
   "metadata": {},
   "source": [
    "### 返回函数"
   ]
  },
  {
   "cell_type": "markdown",
   "metadata": {},
   "source": [
    "高阶函数除了可以接受函数作为参数外，还可以把函数作为结果值返回"
   ]
  },
  {
   "cell_type": "code",
   "execution_count": 276,
   "metadata": {},
   "outputs": [
    {
     "data": {
      "text/plain": [
       "25"
      ]
     },
     "execution_count": 276,
     "metadata": {},
     "output_type": "execute_result"
    }
   ],
   "source": [
    "def lazy_sum(*args):\n",
    "    def sum():\n",
    "        ax = 0\n",
    "        for n in args:\n",
    "            ax = ax + n\n",
    "        return ax\n",
    "    return sum\n",
    "\n",
    "# 调用外函数lazy_sum()时，返回的时内函数sum()的引用，并且将临时变量args绑定给了内函数，方便后续调用内函数时用到\n",
    "f = lazy_sum(1, 3, 5, 7, 9)\n",
    "\n",
    "# 调用内函数sum()，相当于执行f()\n",
    "f()"
   ]
  },
  {
   "cell_type": "markdown",
   "metadata": {},
   "source": [
    "### 闭包"
   ]
  },
  {
   "cell_type": "markdown",
   "metadata": {},
   "source": [
    "更改闭包变量（外函数绑定给内函数的变量）的两种方法"
   ]
  },
  {
   "cell_type": "code",
   "execution_count": 291,
   "metadata": {},
   "outputs": [
    {
     "name": "stdout",
     "output_type": "stream",
     "text": [
      "1 11\n",
      "1 12\n",
      "2 11\n"
     ]
    }
   ],
   "source": [
    "# 方法一：nonlocal关键字声明\n",
    "def outer(a):\n",
    "    b = 10 # a和b都是闭包变量\n",
    "    def inner():\n",
    "        nonlocal b # 利用nonlocal关键字，每次调用变更闭包变量b的值\n",
    "        b += 1\n",
    "        print(a, b)\n",
    "    return inner\n",
    "\n",
    "f1 = outer(1)\n",
    "f1()\n",
    "f1()\n",
    "f2 = outer(2)\n",
    "f2()"
   ]
  },
  {
   "cell_type": "code",
   "execution_count": 290,
   "metadata": {},
   "outputs": [
    {
     "name": "stdout",
     "output_type": "stream",
     "text": [
      "1 11\n",
      "1 12\n",
      "2 11\n"
     ]
    }
   ],
   "source": [
    "# 方法二：把闭包变量修改成可变数据类型 比如列表\n",
    "def outer(a):\n",
    "    b = [10] # a和b都是闭包变量\n",
    "    def inner():\n",
    "        b[0] += 1\n",
    "        print(a, b[0])\n",
    "    return inner\n",
    "\n",
    "f1 = outer(1)\n",
    "f1()\n",
    "f1()\n",
    "f2 = outer(2)\n",
    "f2()"
   ]
  },
  {
   "cell_type": "markdown",
   "metadata": {},
   "source": [
    "利用闭包返回一个计数器函数，每次调用它返回递增整数"
   ]
  },
  {
   "cell_type": "code",
   "execution_count": 295,
   "metadata": {},
   "outputs": [
    {
     "name": "stdout",
     "output_type": "stream",
     "text": [
      "1 2 3 4 5\n",
      "1 2 6\n"
     ]
    }
   ],
   "source": [
    "def createCounter():\n",
    "    n = [0]\n",
    "    def counter():\n",
    "        n[0] += 1\n",
    "        return n[0]\n",
    "    return counter\n",
    "\n",
    "counterA = createCounter()\n",
    "print(counterA(), counterA(), counterA(), counterA(), counterA())\n",
    "\n",
    "counterB = createCounter()\n",
    "print(counterB(), counterB(), counterA())"
   ]
  },
  {
   "cell_type": "markdown",
   "metadata": {},
   "source": [
    "### 匿名函数"
   ]
  },
  {
   "cell_type": "markdown",
   "metadata": {},
   "source": [
    "关键字lambda表示匿名函数，冒号前面的x表示函数参数。该表达式的结果就是返回值"
   ]
  },
  {
   "cell_type": "code",
   "execution_count": 296,
   "metadata": {},
   "outputs": [],
   "source": [
    "def f(x):\n",
    "    return x * x\n",
    "\n",
    "# lambda x: x * x"
   ]
  },
  {
   "cell_type": "markdown",
   "metadata": {},
   "source": [
    "可以将匿名函数赋给变量，也可以赋给函数返回值"
   ]
  },
  {
   "cell_type": "code",
   "execution_count": 297,
   "metadata": {},
   "outputs": [
    {
     "data": {
      "text/plain": [
       "25"
      ]
     },
     "execution_count": 297,
     "metadata": {},
     "output_type": "execute_result"
    }
   ],
   "source": [
    "f = lambda x: x * x\n",
    "f(5)"
   ]
  },
  {
   "cell_type": "code",
   "execution_count": 299,
   "metadata": {},
   "outputs": [
    {
     "data": {
      "text/plain": [
       "25"
      ]
     },
     "execution_count": 299,
     "metadata": {},
     "output_type": "execute_result"
    }
   ],
   "source": [
    "def build(x, y):\n",
    "    return lambda: x * x + y * y\n",
    "f1 = build(3, 4)\n",
    "f1()"
   ]
  },
  {
   "cell_type": "code",
   "execution_count": 300,
   "metadata": {},
   "outputs": [
    {
     "name": "stdout",
     "output_type": "stream",
     "text": [
      "[1, 3, 5, 7, 9, 11, 13, 15, 17, 19]\n"
     ]
    }
   ],
   "source": [
    "L = list(filter(lambda x: x % 2 == 1, range(1, 20)))\n",
    "print(L)"
   ]
  },
  {
   "cell_type": "markdown",
   "metadata": {},
   "source": [
    "### 装饰器"
   ]
  },
  {
   "cell_type": "markdown",
   "metadata": {},
   "source": [
    "在代码运行期间动态增加功能的方式，称之为“装饰器”（Decorator）  \n",
    "decorator可以接受一个函数作为参数，并返回一个函数"
   ]
  },
  {
   "cell_type": "code",
   "execution_count": 340,
   "metadata": {},
   "outputs": [
    {
     "name": "stdout",
     "output_type": "stream",
     "text": [
      "call now():\n"
     ]
    },
    {
     "data": {
      "text/plain": [
       "8"
      ]
     },
     "execution_count": 340,
     "metadata": {},
     "output_type": "execute_result"
    }
   ],
   "source": [
    "# 定义打印日志的decorator\n",
    "def log(func):\n",
    "    def wrapper(*args, **kw):\n",
    "        print('call %s():' % func.__name__)\n",
    "        return func(*args, **kw)\n",
    "    return wrapper\n",
    "\n",
    "\n",
    "'''\n",
    "由于log()是一个decorator，返回一个函数，所以，原来的now()函数仍然存在，只是现在同名的now变量指向了新的函数，\n",
    "于是调用now()将执行新函数，即在log()函数中返回的wrapper()函数。\n",
    "wrapper()函数的参数定义是(*args, **kw)，因此，wrapper()函数可以接受任意参数的调用。\n",
    "在wrapper()函数内，首先打印日志，再紧接着调用原始函数。\n",
    "'''\n",
    "\n",
    "@log # 相当于执行 now = log(now)\n",
    "# 定义函数\n",
    "def now(x, y):\n",
    "    return x + y\n",
    "\n",
    "now(3, 5) # 调用内函数"
   ]
  },
  {
   "cell_type": "markdown",
   "metadata": {},
   "source": [
    "decorator本身也可以传递参数，使得装饰器更加灵活。它实际上是对原有装饰器的一个函数封装，并返回一个装饰器。"
   ]
  },
  {
   "cell_type": "code",
   "execution_count": 29,
   "metadata": {},
   "outputs": [
    {
     "name": "stdout",
     "output_type": "stream",
     "text": [
      "函数now()执行时间: 2019-10-08 18:07:04\n",
      "2019-10-08\n"
     ]
    }
   ],
   "source": [
    "import time\n",
    "\n",
    "# 自定义log文本的装饰器\n",
    "def log(text):  # decorator传递非函数参数\n",
    "    def decorator(func):\n",
    "        def wrapper(*args, **kw):\n",
    "            print('函数%s()%s: %s' % (func.__name__, text, str(time.strftime('%Y-%m-%d %H:%M:%S',time.localtime(time.time())))))\n",
    "            return func(*args, **kw)\n",
    "        return wrapper\n",
    "    return decorator\n",
    "\n",
    "@log('执行时间') # 相当于执行 now = log('执行时间')(now)\n",
    "def now():\n",
    "    print('2019-10-08')\n",
    "    \n",
    "now()"
   ]
  },
  {
   "cell_type": "markdown",
   "metadata": {},
   "source": [
    "经过装饰器包装后的函数，其函数原信息发生改变。因为调用now()函数相当于调用wrapper()函数"
   ]
  },
  {
   "cell_type": "code",
   "execution_count": 25,
   "metadata": {},
   "outputs": [
    {
     "data": {
      "text/plain": [
       "'wrapper'"
      ]
     },
     "execution_count": 25,
     "metadata": {},
     "output_type": "execute_result"
    }
   ],
   "source": [
    "now.__name__"
   ]
  },
  {
   "cell_type": "markdown",
   "metadata": {},
   "source": [
    "利用python内置的functools.wraps。相当于执行`wrapper.__name__ = func.__name__`。"
   ]
  },
  {
   "cell_type": "code",
   "execution_count": 30,
   "metadata": {},
   "outputs": [
    {
     "name": "stdout",
     "output_type": "stream",
     "text": [
      "函数now()执行时间: 2019-10-08 18:07:08\n",
      "2019-10-08\n",
      "now\n"
     ]
    }
   ],
   "source": [
    "import time\n",
    "import functools\n",
    "\n",
    "# 自定义log文本的装饰器\n",
    "def log(text):  # decorator传递非函数参数\n",
    "    def decorator(func):\n",
    "        @functools.wraps(func) # 将func函数的元信息赋给wrapper()\n",
    "        def wrapper(*args, **kw):\n",
    "            print('函数%s()%s: %s' % (func.__name__, text, str(time.strftime('%Y-%m-%d %H:%M:%S',time.localtime(time.time())))))\n",
    "            return func(*args, **kw)\n",
    "        return wrapper\n",
    "    return decorator\n",
    "\n",
    "@log('执行时间') # 相当于执行 now = log('执行时间')(now)\n",
    "def now():\n",
    "    print('2019-10-08')\n",
    "    \n",
    "now()\n",
    "\n",
    "print(now.__name__)"
   ]
  },
  {
   "cell_type": "markdown",
   "metadata": {},
   "source": [
    "设计一个decorator，它可作用于任何函数上，并打印该函数的执行时间"
   ]
  },
  {
   "cell_type": "code",
   "execution_count": 50,
   "metadata": {},
   "outputs": [
    {
     "name": "stdout",
     "output_type": "stream",
     "text": [
      "fast executed in 2.9938220977783203 ms\n",
      "slow executed in 124.61137771606445 ms\n",
      "33\n",
      "7986\n"
     ]
    }
   ],
   "source": [
    "import time\n",
    "import functools\n",
    "\n",
    "def metric(fn):\n",
    "    @functools.wraps(fn)\n",
    "    def wrapper(*args, **kw):\n",
    "        start_time = time.time()\n",
    "        func = fn(*args, **kw)  # 调用fn(*args, **kw)函数,func指向返回值\n",
    "        end_time = time.time()\n",
    "        cost_time = (end_time - start_time) * 1000\n",
    "        print('%s executed in %s ms' % (fn.__name__, cost_time))\n",
    "#         return fn(*args, **kw) # 返回fn(*args, **kw),实际调用了fn(*args, **kw)，建议写成return func，避免多次调用\n",
    "        return func\n",
    "    return wrapper\n",
    "\n",
    "@metric\n",
    "def fast(x, y):\n",
    "    time.sleep(0.0012)\n",
    "    return x + y\n",
    "\n",
    "@metric\n",
    "def slow(x, y, z):\n",
    "    time.sleep(0.1234)\n",
    "    return x * y * z\n",
    "\n",
    "print(fast(11, 22),slow(11, 22, 33),sep = '\\n')"
   ]
  },
  {
   "cell_type": "markdown",
   "metadata": {},
   "source": [
    "### 偏函数"
   ]
  },
  {
   "cell_type": "markdown",
   "metadata": {},
   "source": [
    "使用functools.partial可以创建一个新的函数，这个新函数可以固定住原函数的部分参数，从而在调用时更简单  \n",
    "实际创建偏函数时，接收对象包括：函数、`*args`、`**kw`"
   ]
  },
  {
   "cell_type": "code",
   "execution_count": 1,
   "metadata": {},
   "outputs": [
    {
     "data": {
      "text/plain": [
       "64"
      ]
     },
     "execution_count": 1,
     "metadata": {},
     "output_type": "execute_result"
    }
   ],
   "source": [
    "# int函数固定base参数\n",
    "import functools\n",
    "int2 = functools.partial(int, base=2)\n",
    "int2('1000000')"
   ]
  },
  {
   "cell_type": "code",
   "execution_count": 2,
   "metadata": {},
   "outputs": [
    {
     "data": {
      "text/plain": [
       "1000000"
      ]
     },
     "execution_count": 2,
     "metadata": {},
     "output_type": "execute_result"
    }
   ],
   "source": [
    "# 原始参数依然可用\n",
    "int2('1000000', base=10)"
   ]
  },
  {
   "cell_type": "code",
   "execution_count": 3,
   "metadata": {},
   "outputs": [
    {
     "data": {
      "text/plain": [
       "10"
      ]
     },
     "execution_count": 3,
     "metadata": {},
     "output_type": "execute_result"
    }
   ],
   "source": [
    "# max函数固定可变参数，相当于在*args增加固定成员\n",
    "max10 = functools.partial(max, 10)\n",
    "max10(2, 5, 9, 3)"
   ]
  },
  {
   "cell_type": "markdown",
   "metadata": {},
   "source": [
    "## 模块"
   ]
  },
  {
   "cell_type": "markdown",
   "metadata": {},
   "source": [
    "模块编写标准范式"
   ]
  },
  {
   "cell_type": "code",
   "execution_count": 4,
   "metadata": {},
   "outputs": [
    {
     "name": "stdout",
     "output_type": "stream",
     "text": [
      "Too many arguments!\n"
     ]
    }
   ],
   "source": [
    "#!/usr/bin/env python3\n",
    "# -*- coding: utf-8 -*-\n",
    "\n",
    "' a test module '\n",
    "\n",
    "__author__ = 'Michael Liao'\n",
    "\n",
    "import sys\n",
    "\n",
    "def test():\n",
    "    args = sys.argv\n",
    "    if len(args)==1:\n",
    "        print('Hello, world!')\n",
    "    elif len(args)==2:\n",
    "        print('Hello, %s!' % args[1])\n",
    "    else:\n",
    "        print('Too many arguments!')\n",
    "\n",
    "if __name__=='__main__':\n",
    "    test()"
   ]
  },
  {
   "cell_type": "markdown",
   "metadata": {},
   "source": [
    "## 面向对象编程"
   ]
  },
  {
   "cell_type": "markdown",
   "metadata": {},
   "source": [
    "### 类与实例\n",
    "class 类 (人) instance 实例 (你,我,他) 你会有些属性(身高,年龄,体重) 你会有些技能(吃饭,泡妞)  \n",
    "在类中定义的函数只有一点不同，就是第一个参数永远是实例变量self，并且，调用时，不用传递该参数。"
   ]
  },
  {
   "cell_type": "code",
   "execution_count": 7,
   "metadata": {},
   "outputs": [
    {
     "name": "stdout",
     "output_type": "stream",
     "text": [
      "170\n",
      "你拥有泡妞的技能\n",
      "you can eat\n",
      "low\n"
     ]
    }
   ],
   "source": [
    "class Person(object):\n",
    "# 这里就是初始化你将要创建的实例的属性\n",
    "    def __init__(self, hight, weight, age):\n",
    "        self.hight = hight\n",
    "        self.weight = weight\n",
    "        self.age = age\n",
    "\n",
    "# 定义你将要创建的实例所有用的技能-称为类的方法\n",
    "    def paoniu(self):\n",
    "        print('你拥有泡妞的技能')\n",
    "\n",
    "    def eat(self):\n",
    "        print('you can eat')\n",
    "        \n",
    "# 内部定义访问数据的方法--数据封装\n",
    "    def get_hightgrade(self):\n",
    "        if self.hight >= 175:\n",
    "            return 'high'\n",
    "        else:\n",
    "            return 'low'\n",
    "\n",
    "# 开始创建实例\n",
    "zhangsan = Person(170, 50, 29)\n",
    "lisi = Person(175, 100, 30)\n",
    "\n",
    "# 调用实例的默认属性\n",
    "print(zhangsan.hight)\n",
    "\n",
    "# 你的实例开始使用它的技能\n",
    "zhangsan.paoniu()\n",
    "lisi.eat()\n",
    "\n",
    "# 内部数据调用\n",
    "print(zhangsan.get_hightgrade())"
   ]
  },
  {
   "cell_type": "markdown",
   "metadata": {},
   "source": [
    "### 访问限制\n",
    "实例的变量名如果以__开头，就变成了一个私有变量（private），只有内部可以访问，外部不能访问"
   ]
  },
  {
   "cell_type": "code",
   "execution_count": 8,
   "metadata": {},
   "outputs": [
    {
     "ename": "AttributeError",
     "evalue": "'Student' object has no attribute '__name'",
     "output_type": "error",
     "traceback": [
      "\u001b[1;31m---------------------------------------------------------------------------\u001b[0m",
      "\u001b[1;31mAttributeError\u001b[0m                            Traceback (most recent call last)",
      "\u001b[1;32m<ipython-input-8-6f2050d3d835>\u001b[0m in \u001b[0;36m<module>\u001b[1;34m\u001b[0m\n\u001b[0;32m     10\u001b[0m \u001b[0mbart\u001b[0m \u001b[1;33m=\u001b[0m \u001b[0mStudent\u001b[0m\u001b[1;33m(\u001b[0m\u001b[1;34m'Bart Simpson'\u001b[0m\u001b[1;33m,\u001b[0m \u001b[1;36m59\u001b[0m\u001b[1;33m)\u001b[0m\u001b[1;33m\u001b[0m\u001b[1;33m\u001b[0m\u001b[0m\n\u001b[0;32m     11\u001b[0m \u001b[1;31m# 无法访问私有变量\u001b[0m\u001b[1;33m\u001b[0m\u001b[1;33m\u001b[0m\u001b[1;33m\u001b[0m\u001b[0m\n\u001b[1;32m---> 12\u001b[1;33m \u001b[0mbart\u001b[0m\u001b[1;33m.\u001b[0m\u001b[0m__name\u001b[0m\u001b[1;33m\u001b[0m\u001b[1;33m\u001b[0m\u001b[0m\n\u001b[0m",
      "\u001b[1;31mAttributeError\u001b[0m: 'Student' object has no attribute '__name'"
     ]
    }
   ],
   "source": [
    "class Student(object):\n",
    "    # 定义私有变量\n",
    "    def __init__(self, name, score):\n",
    "        self.__name = name\n",
    "        self.__score = score\n",
    "        \n",
    "    def print_score(self):\n",
    "        print('%s: %s' % (self.__name, self.__score))\n",
    "\n",
    "bart = Student('Bart Simpson', 59)\n",
    "# 无法访问私有变量\n",
    "bart.__name"
   ]
  },
  {
   "cell_type": "code",
   "execution_count": 9,
   "metadata": {},
   "outputs": [
    {
     "data": {
      "text/plain": [
       "'Bart Simpson'"
      ]
     },
     "execution_count": 9,
     "metadata": {},
     "output_type": "execute_result"
    }
   ],
   "source": [
    "# 允许外部获取class中私有变量的值\n",
    "class Student(object):\n",
    "    # 定义私有变量\n",
    "    def __init__(self, name, score):\n",
    "        self.__name = name\n",
    "        self.__score = score\n",
    "        \n",
    "    def print_score(self):\n",
    "        print('%s: %s' % (self.__name, self.__score))\n",
    "    # 通过方法获取  \n",
    "    def get_name(self):\n",
    "        return self.__name\n",
    "    \n",
    "    def get_score(self):\n",
    "        return self.__score\n",
    "\n",
    "bart = Student('Bart Simpson', 59)\n",
    "# 外部获取私有变量取值\n",
    "bart.get_name()"
   ]
  },
  {
   "cell_type": "markdown",
   "metadata": {},
   "source": [
    "私有变量扎压  \n",
    "`__name` -> `_Student___name`"
   ]
  },
  {
   "cell_type": "code",
   "execution_count": 10,
   "metadata": {},
   "outputs": [
    {
     "data": {
      "text/plain": [
       "'Bart new'"
      ]
     },
     "execution_count": 10,
     "metadata": {},
     "output_type": "execute_result"
    }
   ],
   "source": [
    "bart = Student('Bart new', 59)\n",
    "bart._Student__name"
   ]
  },
  {
   "cell_type": "code",
   "execution_count": 13,
   "metadata": {},
   "outputs": [
    {
     "data": {
      "text/plain": [
       "99"
      ]
     },
     "execution_count": 13,
     "metadata": {},
     "output_type": "execute_result"
    }
   ],
   "source": [
    "# 允许外部修改私有变量值\n",
    "class Student(object):\n",
    "    # 定义私有变量\n",
    "    def __init__(self, name, score):\n",
    "        self.__name = name\n",
    "        self.__score = score\n",
    "        \n",
    "    def print_score(self):\n",
    "        print('%s: %s' % (self.__name, self.__score))\n",
    "    # 通过方法获取  \n",
    "    def get_name(self):\n",
    "        return self.__name\n",
    "    \n",
    "    def get_score(self):\n",
    "        return self.__score\n",
    "    # 通过方法添加参数修改，参数可以进行检查，避免传入无效参数\n",
    "    def set_score(self, score):\n",
    "        if 0 <= score <= 100:\n",
    "            self.__score = score\n",
    "        else:\n",
    "            raise ValueError('bad score')\n",
    "        \n",
    "\n",
    "bart = Student('Bart Simpson', 59)\n",
    "bart.set_score(99)\n",
    "bart.get_score()"
   ]
  },
  {
   "cell_type": "code",
   "execution_count": 19,
   "metadata": {},
   "outputs": [
    {
     "name": "stdout",
     "output_type": "stream",
     "text": [
      "male\n",
      "female\n"
     ]
    }
   ],
   "source": [
    "## 外部获取性别并修改性别\n",
    "class Student(object):\n",
    "    def __init__(self, name, gender):\n",
    "        self.__name = name\n",
    "        self.__gender = gender\n",
    "    \n",
    "    def get_gender(self):\n",
    "        return self.__gender\n",
    "    \n",
    "    def set_gender(self, gender):\n",
    "        if gender in ('male', 'female'):\n",
    "            self.__gender = gender\n",
    "        else:\n",
    "            raise ValueError('bad value')\n",
    "            \n",
    "bart = Student('Bart', 'male')\n",
    "print(bart.get_gender())\n",
    "bart.set_gender('female')\n",
    "print(bart.get_gender())"
   ]
  },
  {
   "cell_type": "markdown",
   "metadata": {},
   "source": [
    "### 继承和多态"
   ]
  },
  {
   "cell_type": "code",
   "execution_count": 2,
   "metadata": {},
   "outputs": [
    {
     "name": "stdout",
     "output_type": "stream",
     "text": [
      "Animal is runing...\n",
      "Animal is runing...\n"
     ]
    }
   ],
   "source": [
    "# 定义父类\n",
    "class Animal(object):\n",
    "    def run(self):\n",
    "        print('Animal is runing...')\n",
    "        \n",
    "# 定义子类Dog\n",
    "class Dog(Animal):\n",
    "    pass\n",
    "\n",
    "# 定义子类Cat\n",
    "class Cat(Animal):\n",
    "    pass\n",
    "\n",
    "## 子类使用父类方法\n",
    "dog = Dog()\n",
    "dog.run()\n",
    "\n",
    "cat = Cat()\n",
    "cat.run()"
   ]
  },
  {
   "cell_type": "code",
   "execution_count": 4,
   "metadata": {},
   "outputs": [
    {
     "name": "stdout",
     "output_type": "stream",
     "text": [
      "Dog is runing...\n",
      "Eating meat...\n",
      "Cat is runing...\n"
     ]
    }
   ],
   "source": [
    "# 子类可以增加属于自己的方法\n",
    "class Dog(Animal):\n",
    "    def run(self):\n",
    "        print('Dog is runing...')\n",
    "        \n",
    "    def eat(self):\n",
    "        print('Eating meat...')\n",
    "        \n",
    "        \n",
    "class Cat(Animal):\n",
    "    def run(self):\n",
    "        print('Cat is runing...')\n",
    "        \n",
    "dog = Dog()\n",
    "# 当子类和父类都存在相同的run()方法时，子类的run()覆盖了父类的run()--多态\n",
    "dog.run()\n",
    "dog.eat()\n",
    "\n",
    "cat = Cat()\n",
    "cat.run()"
   ]
  },
  {
   "cell_type": "markdown",
   "metadata": {},
   "source": [
    "当我们定义一个class的时候，我们实际上就定义了一种数据类型。"
   ]
  },
  {
   "cell_type": "code",
   "execution_count": 5,
   "metadata": {},
   "outputs": [
    {
     "name": "stdout",
     "output_type": "stream",
     "text": [
      "True\n",
      "True\n",
      "True\n"
     ]
    }
   ],
   "source": [
    "a = list() # a是list类型\n",
    "b = Animal() # b是Animal类型\n",
    "c = Dog() # c是Dog类型\n",
    "print(isinstance(a, list))\n",
    "print(isinstance(b, Animal))\n",
    "print(isinstance(c, Dog))"
   ]
  },
  {
   "cell_type": "markdown",
   "metadata": {},
   "source": [
    "子类可继承父类数据类型，反之不可以"
   ]
  },
  {
   "cell_type": "code",
   "execution_count": 6,
   "metadata": {},
   "outputs": [
    {
     "name": "stdout",
     "output_type": "stream",
     "text": [
      "True\n",
      "False\n"
     ]
    }
   ],
   "source": [
    "print(isinstance(c, Animal))\n",
    "print(isinstance(b, Dog))"
   ]
  },
  {
   "cell_type": "markdown",
   "metadata": {},
   "source": [
    "多态的好处"
   ]
  },
  {
   "cell_type": "code",
   "execution_count": 7,
   "metadata": {},
   "outputs": [
    {
     "name": "stdout",
     "output_type": "stream",
     "text": [
      "Animal is runing...\n",
      "Animal is runing...\n",
      "Dog is runing...\n",
      "Dog is runing...\n",
      "Cat is runing...\n",
      "Cat is runing...\n"
     ]
    }
   ],
   "source": [
    "# 定义一个接受Animal类型参数的函数\n",
    "def run_twice(animal):\n",
    "    animal.run()\n",
    "    animal.run()\n",
    "    \n",
    "# 传入Animal的实例\n",
    "run_twice(Animal())\n",
    "\n",
    "# 传入子类实例\n",
    "run_twice(Dog())\n",
    "run_twice(Cat())"
   ]
  },
  {
   "cell_type": "code",
   "execution_count": 8,
   "metadata": {},
   "outputs": [
    {
     "name": "stdout",
     "output_type": "stream",
     "text": [
      "Tortoise is running slowly...\n",
      "Tortoise is running slowly...\n"
     ]
    }
   ],
   "source": [
    "# 派生Animal子类\n",
    "class Tortoise(Animal):\n",
    "    def run(self):\n",
    "        print('Tortoise is running slowly...')\n",
    "        \n",
    "## 传入派生的子类，不必对run_twice做任何修改\n",
    "run_twice(Tortoise())"
   ]
  },
  {
   "cell_type": "markdown",
   "metadata": {},
   "source": [
    "python语言的\"鸭子类型\"--\"file-like object\""
   ]
  },
  {
   "cell_type": "code",
   "execution_count": 13,
   "metadata": {},
   "outputs": [
    {
     "name": "stdout",
     "output_type": "stream",
     "text": [
      "Start...\n",
      "Start...\n"
     ]
    }
   ],
   "source": [
    "# 只需class中含有run()方法，不用严格的继承父类\n",
    "class Timer(object):\n",
    "    def run(self):\n",
    "        print('Start...')\n",
    "        \n",
    "run_twice(Timer())"
   ]
  },
  {
   "cell_type": "markdown",
   "metadata": {},
   "source": [
    "### 判断类型"
   ]
  },
  {
   "cell_type": "code",
   "execution_count": 19,
   "metadata": {},
   "outputs": [
    {
     "name": "stdout",
     "output_type": "stream",
     "text": [
      "True\n",
      "True\n",
      "True\n",
      "True\n"
     ]
    }
   ],
   "source": [
    "# type()\n",
    "import types\n",
    "def fn():\n",
    "    pass\n",
    "\n",
    "print(type(fn) == types.FunctionType)\n",
    "print(type(abs) == types.BuiltinFunctionType)\n",
    "print(type(lambda x:x*x) == types.LambdaType)\n",
    "print(type((x for x in range(10))) == types.GeneratorType)"
   ]
  },
  {
   "cell_type": "code",
   "execution_count": 21,
   "metadata": {},
   "outputs": [
    {
     "name": "stdout",
     "output_type": "stream",
     "text": [
      "True\n",
      "True\n"
     ]
    }
   ],
   "source": [
    "# isinstance()\n",
    "print(isinstance(123, int))\n",
    "print(isinstance([1, 2, 3], (list, tuple)))"
   ]
  },
  {
   "cell_type": "code",
   "execution_count": 23,
   "metadata": {
    "scrolled": true
   },
   "outputs": [
    {
     "data": {
      "text/plain": [
       "['__add__',\n",
       " '__class__',\n",
       " '__contains__',\n",
       " '__delattr__',\n",
       " '__dir__',\n",
       " '__doc__',\n",
       " '__eq__',\n",
       " '__format__',\n",
       " '__ge__',\n",
       " '__getattribute__',\n",
       " '__getitem__',\n",
       " '__getnewargs__',\n",
       " '__gt__',\n",
       " '__hash__',\n",
       " '__init__',\n",
       " '__init_subclass__',\n",
       " '__iter__',\n",
       " '__le__',\n",
       " '__len__',\n",
       " '__lt__',\n",
       " '__mod__',\n",
       " '__mul__',\n",
       " '__ne__',\n",
       " '__new__',\n",
       " '__reduce__',\n",
       " '__reduce_ex__',\n",
       " '__repr__',\n",
       " '__rmod__',\n",
       " '__rmul__',\n",
       " '__setattr__',\n",
       " '__sizeof__',\n",
       " '__str__',\n",
       " '__subclasshook__',\n",
       " 'capitalize',\n",
       " 'casefold',\n",
       " 'center',\n",
       " 'count',\n",
       " 'encode',\n",
       " 'endswith',\n",
       " 'expandtabs',\n",
       " 'find',\n",
       " 'format',\n",
       " 'format_map',\n",
       " 'index',\n",
       " 'isalnum',\n",
       " 'isalpha',\n",
       " 'isascii',\n",
       " 'isdecimal',\n",
       " 'isdigit',\n",
       " 'isidentifier',\n",
       " 'islower',\n",
       " 'isnumeric',\n",
       " 'isprintable',\n",
       " 'isspace',\n",
       " 'istitle',\n",
       " 'isupper',\n",
       " 'join',\n",
       " 'ljust',\n",
       " 'lower',\n",
       " 'lstrip',\n",
       " 'maketrans',\n",
       " 'partition',\n",
       " 'replace',\n",
       " 'rfind',\n",
       " 'rindex',\n",
       " 'rjust',\n",
       " 'rpartition',\n",
       " 'rsplit',\n",
       " 'rstrip',\n",
       " 'split',\n",
       " 'splitlines',\n",
       " 'startswith',\n",
       " 'strip',\n",
       " 'swapcase',\n",
       " 'title',\n",
       " 'translate',\n",
       " 'upper',\n",
       " 'zfill']"
      ]
     },
     "execution_count": 23,
     "metadata": {},
     "output_type": "execute_result"
    }
   ],
   "source": [
    "# dir()查看所有属性或方法\n",
    "dir('ac')"
   ]
  },
  {
   "cell_type": "markdown",
   "metadata": {},
   "source": [
    "### 获取对象信息\n",
    "配合getattr()、setattr()以及hasattr()，我们可以直接操作一个对象的状态"
   ]
  },
  {
   "cell_type": "code",
   "execution_count": 26,
   "metadata": {},
   "outputs": [],
   "source": [
    "class MyObject(object):\n",
    "    def __init__(self):\n",
    "        self.x = 9\n",
    "    \n",
    "    def power(self):\n",
    "        return self.x * self.x\n",
    "\n",
    "obj = MyObject()"
   ]
  },
  {
   "cell_type": "markdown",
   "metadata": {},
   "source": [
    "测试obj的属性"
   ]
  },
  {
   "cell_type": "code",
   "execution_count": 27,
   "metadata": {},
   "outputs": [
    {
     "name": "stdout",
     "output_type": "stream",
     "text": [
      "True\n",
      "9\n",
      "False\n",
      "True\n",
      "19\n",
      "19\n"
     ]
    }
   ],
   "source": [
    "print(hasattr(obj, 'x')) # 有属性'x'吗？\n",
    "print(obj.x)\n",
    "print(hasattr(obj, 'y')) # 有属性'y'吗？\n",
    "setattr(obj, 'y', 19) # 设置一个属性'y'\n",
    "print(hasattr(obj, 'y')) # 有属性'y'吗？\n",
    "print(getattr(obj, 'y')) # 获取属性'y'\n",
    "print(obj.y)"
   ]
  },
  {
   "cell_type": "code",
   "execution_count": 28,
   "metadata": {},
   "outputs": [
    {
     "data": {
      "text/plain": [
       "404"
      ]
     },
     "execution_count": 28,
     "metadata": {},
     "output_type": "execute_result"
    }
   ],
   "source": [
    "# 获取不存在的属性会抛出异常。可设置default\n",
    "getattr(obj, 'z', 404) # 获取属性'z'，如果不存在，返回默认值404"
   ]
  },
  {
   "cell_type": "markdown",
   "metadata": {},
   "source": [
    "还可获取对象的方法"
   ]
  },
  {
   "cell_type": "code",
   "execution_count": 29,
   "metadata": {},
   "outputs": [
    {
     "data": {
      "text/plain": [
       "True"
      ]
     },
     "execution_count": 29,
     "metadata": {},
     "output_type": "execute_result"
    }
   ],
   "source": [
    "hasattr(obj, 'power') # 有属性'power'吗？"
   ]
  },
  {
   "cell_type": "code",
   "execution_count": 30,
   "metadata": {},
   "outputs": [
    {
     "data": {
      "text/plain": [
       "81"
      ]
     },
     "execution_count": 30,
     "metadata": {},
     "output_type": "execute_result"
    }
   ],
   "source": [
    "fn = getattr(obj, 'power') # 获取属性'power'并赋值到变量fn\n",
    "fn()"
   ]
  },
  {
   "cell_type": "markdown",
   "metadata": {},
   "source": [
    "### 实例属性和类属性"
   ]
  },
  {
   "cell_type": "markdown",
   "metadata": {},
   "source": [
    "可通过实例变量，或者self变量。给实例绑定属性"
   ]
  },
  {
   "cell_type": "code",
   "execution_count": 31,
   "metadata": {},
   "outputs": [
    {
     "name": "stdout",
     "output_type": "stream",
     "text": [
      "Bob\n",
      "90\n"
     ]
    }
   ],
   "source": [
    "# 实例属性\n",
    "class Student(object):\n",
    "    def __init__(self, name):\n",
    "        self.name = name\n",
    "\n",
    "s = Student('Bob')\n",
    "s.score = 90\n",
    "print(s.name)\n",
    "print(s.score)"
   ]
  },
  {
   "cell_type": "code",
   "execution_count": 32,
   "metadata": {},
   "outputs": [],
   "source": [
    "# 类属性\n",
    "# 定义类属性\n",
    "class Student(object):\n",
    "    name = 'Student'"
   ]
  },
  {
   "cell_type": "code",
   "execution_count": 34,
   "metadata": {},
   "outputs": [
    {
     "name": "stdout",
     "output_type": "stream",
     "text": [
      "Student\n"
     ]
    }
   ],
   "source": [
    "# 创建实例s\n",
    "s = Student()\n",
    "# 打印name属性，因为实例并没有name属性，所以会继续查找class的name属性\n",
    "print(s.name)"
   ]
  },
  {
   "cell_type": "code",
   "execution_count": 35,
   "metadata": {},
   "outputs": [
    {
     "name": "stdout",
     "output_type": "stream",
     "text": [
      "Student\n"
     ]
    }
   ],
   "source": [
    "# 打印类的name属性\n",
    "print(Student.name)"
   ]
  },
  {
   "cell_type": "code",
   "execution_count": 36,
   "metadata": {},
   "outputs": [
    {
     "name": "stdout",
     "output_type": "stream",
     "text": [
      "Michael\n"
     ]
    }
   ],
   "source": [
    "# 给实例绑定name属性\n",
    "s.name = 'Michael' \n",
    "# 由于实例属性优先级比类属性高，因此，它会屏蔽掉类的name属性\n",
    "print(s.name)"
   ]
  },
  {
   "cell_type": "code",
   "execution_count": 37,
   "metadata": {},
   "outputs": [
    {
     "name": "stdout",
     "output_type": "stream",
     "text": [
      "Student\n"
     ]
    }
   ],
   "source": [
    "# 但是类属性并未消失，用Student.name仍然可以访问\n",
    "print(Student.name)"
   ]
  },
  {
   "cell_type": "code",
   "execution_count": 38,
   "metadata": {},
   "outputs": [
    {
     "name": "stdout",
     "output_type": "stream",
     "text": [
      "Student\n"
     ]
    }
   ],
   "source": [
    "# 如果删除实例的name属性\n",
    "del s.name\n",
    "# 再次调用s.name，由于实例的name属性没有找到，类的name属性就显示出来了\n",
    "print(s.name)"
   ]
  },
  {
   "cell_type": "markdown",
   "metadata": {},
   "source": [
    "为了统计学生人数，可以给Student类增加一个类属性，每创建一个实例，该属性自动增加："
   ]
  },
  {
   "cell_type": "code",
   "execution_count": 42,
   "metadata": {},
   "outputs": [],
   "source": [
    "class Student(object):\n",
    "    count = 0\n",
    "\n",
    "    def __init__(self, name):\n",
    "        self.name = name\n",
    "        Student.count += 1\n",
    "\n",
    "        ## 每次创建实例都会调用__init__()."
   ]
  },
  {
   "cell_type": "markdown",
   "metadata": {},
   "source": [
    "## 面向对象高级编程"
   ]
  },
  {
   "cell_type": "markdown",
   "metadata": {},
   "source": [
    "### 给class绑定属性和方法"
   ]
  },
  {
   "cell_type": "code",
   "execution_count": 1,
   "metadata": {},
   "outputs": [
    {
     "name": "stdout",
     "output_type": "stream",
     "text": [
      "Michael\n",
      "25\n"
     ]
    }
   ],
   "source": [
    "# 定义class\n",
    "class Student(object):\n",
    "    pass\n",
    "\n",
    "# 绑定属性\n",
    "s = Student()\n",
    "s.name = 'Michael'\n",
    "# 测试结果\n",
    "print(s.name)\n",
    "\n",
    "\n",
    "# 绑定方法\n",
    "# 定义一个函数作为实例方法\n",
    "def set_age(self, age):\n",
    "    self.age = age\n",
    "\n",
    "from types import MethodType\n",
    "# 给实例绑定一个方法\n",
    "s.set_age = MethodType(set_age, s)\n",
    "# 调用实例方法\n",
    "s.set_age(25)\n",
    "# 测试结果\n",
    "print(s.age)"
   ]
  },
  {
   "cell_type": "markdown",
   "metadata": {},
   "source": [
    "但是对一个实例绑定方法，对另一个实例不起作用"
   ]
  },
  {
   "cell_type": "code",
   "execution_count": 2,
   "metadata": {},
   "outputs": [
    {
     "ename": "AttributeError",
     "evalue": "'Student' object has no attribute 'set_age'",
     "output_type": "error",
     "traceback": [
      "\u001b[0;31m---------------------------------------------------------------------------\u001b[0m",
      "\u001b[0;31mAttributeError\u001b[0m                            Traceback (most recent call last)",
      "\u001b[0;32m<ipython-input-2-6730dd3fca54>\u001b[0m in \u001b[0;36m<module>\u001b[0;34m\u001b[0m\n\u001b[1;32m      1\u001b[0m \u001b[0ms2\u001b[0m \u001b[0;34m=\u001b[0m \u001b[0mStudent\u001b[0m\u001b[0;34m(\u001b[0m\u001b[0;34m)\u001b[0m\u001b[0;34m\u001b[0m\u001b[0;34m\u001b[0m\u001b[0m\n\u001b[0;32m----> 2\u001b[0;31m \u001b[0ms2\u001b[0m\u001b[0;34m.\u001b[0m\u001b[0mset_age\u001b[0m\u001b[0;34m(\u001b[0m\u001b[0;36m26\u001b[0m\u001b[0;34m)\u001b[0m\u001b[0;34m\u001b[0m\u001b[0;34m\u001b[0m\u001b[0m\n\u001b[0m",
      "\u001b[0;31mAttributeError\u001b[0m: 'Student' object has no attribute 'set_age'"
     ]
    }
   ],
   "source": [
    "s2 = Student()\n",
    "s2.set_age(26)"
   ]
  },
  {
   "cell_type": "markdown",
   "metadata": {},
   "source": [
    "给class绑定方法，则可以对所有实例有效"
   ]
  },
  {
   "cell_type": "code",
   "execution_count": 4,
   "metadata": {},
   "outputs": [
    {
     "name": "stdout",
     "output_type": "stream",
     "text": [
      "100 99\n"
     ]
    }
   ],
   "source": [
    "def set_score(self, score):\n",
    "    self.score = score\n",
    "    \n",
    "Student.set_score = set_score\n",
    "\n",
    "# 测试结果\n",
    "s.set_score(100)\n",
    "s2.set_score(99)\n",
    "print(s.score, s2.score)"
   ]
  },
  {
   "cell_type": "markdown",
   "metadata": {},
   "source": [
    "### `__slots__`限制实例的属性"
   ]
  },
  {
   "cell_type": "code",
   "execution_count": 5,
   "metadata": {},
   "outputs": [
    {
     "ename": "AttributeError",
     "evalue": "'Student' object has no attribute 'score'",
     "output_type": "error",
     "traceback": [
      "\u001b[0;31m---------------------------------------------------------------------------\u001b[0m",
      "\u001b[0;31mAttributeError\u001b[0m                            Traceback (most recent call last)",
      "\u001b[0;32m<ipython-input-5-632b08768bdb>\u001b[0m in \u001b[0;36m<module>\u001b[0;34m\u001b[0m\n\u001b[1;32m      5\u001b[0m \u001b[0ms\u001b[0m\u001b[0;34m.\u001b[0m\u001b[0mname\u001b[0m \u001b[0;34m=\u001b[0m \u001b[0;34m'Michael'\u001b[0m \u001b[0;31m# 绑定属性'name'\u001b[0m\u001b[0;34m\u001b[0m\u001b[0;34m\u001b[0m\u001b[0m\n\u001b[1;32m      6\u001b[0m \u001b[0ms\u001b[0m\u001b[0;34m.\u001b[0m\u001b[0mage\u001b[0m \u001b[0;34m=\u001b[0m \u001b[0;36m25\u001b[0m \u001b[0;31m# 绑定属性'age'\u001b[0m\u001b[0;34m\u001b[0m\u001b[0;34m\u001b[0m\u001b[0m\n\u001b[0;32m----> 7\u001b[0;31m \u001b[0ms\u001b[0m\u001b[0;34m.\u001b[0m\u001b[0mscore\u001b[0m \u001b[0;34m=\u001b[0m \u001b[0;36m99\u001b[0m \u001b[0;31m# 绑定属性'score'\u001b[0m\u001b[0;34m\u001b[0m\u001b[0;34m\u001b[0m\u001b[0m\n\u001b[0m",
      "\u001b[0;31mAttributeError\u001b[0m: 'Student' object has no attribute 'score'"
     ]
    }
   ],
   "source": [
    "class Student(object):\n",
    "    __slots__ = ('name', 'age') # 用tuple定义允许绑定的属性名称\n",
    "    \n",
    "s = Student() # 创建新的实例\n",
    "s.name = 'Michael' # 绑定属性'name'\n",
    "s.age = 25 # 绑定属性'age'\n",
    "s.score = 99 # 绑定属性'score'"
   ]
  },
  {
   "cell_type": "markdown",
   "metadata": {},
   "source": [
    "`__slots__`定义的属性仅对当前类实例起作用，对继承的子类是不起作用的"
   ]
  },
  {
   "cell_type": "code",
   "execution_count": 6,
   "metadata": {},
   "outputs": [
    {
     "name": "stdout",
     "output_type": "stream",
     "text": [
      "999\n"
     ]
    }
   ],
   "source": [
    "class GraduateStudent(Student):\n",
    "    pass\n",
    "\n",
    "g = GraduateStudent\n",
    "g.score = 999\n",
    "print(g.score)"
   ]
  },
  {
   "cell_type": "markdown",
   "metadata": {},
   "source": [
    "Python内置的`@property`装饰器就是负责把一个方法变成属性调用的"
   ]
  },
  {
   "cell_type": "code",
   "execution_count": 7,
   "metadata": {},
   "outputs": [],
   "source": [
    "class Student(object):\n",
    "\n",
    "    @property # 把一个getter方法变成属性，只需要加上@property就可以了\n",
    "    def score(self):\n",
    "        return self._score\n",
    "\n",
    "    @score.setter # @property本身又创建了另一个装饰器@score.setter，负责把一个setter方法变成属性赋值\n",
    "    def score(self, value):\n",
    "        if not isinstance(value, int):\n",
    "            raise ValueError('score must be an integer!')\n",
    "        if value < 0 or value > 100:\n",
    "            raise ValueError('score must between 0 ~ 100!')\n",
    "        self._score = value"
   ]
  },
  {
   "cell_type": "code",
   "execution_count": 8,
   "metadata": {},
   "outputs": [
    {
     "name": "stdout",
     "output_type": "stream",
     "text": [
      "60\n"
     ]
    },
    {
     "ename": "ValueError",
     "evalue": "score must between 0 ~ 100!",
     "output_type": "error",
     "traceback": [
      "\u001b[0;31m---------------------------------------------------------------------------\u001b[0m",
      "\u001b[0;31mValueError\u001b[0m                                Traceback (most recent call last)",
      "\u001b[0;32m<ipython-input-8-fb84a1fc1913>\u001b[0m in \u001b[0;36m<module>\u001b[0;34m\u001b[0m\n\u001b[1;32m      2\u001b[0m \u001b[0ms\u001b[0m\u001b[0;34m.\u001b[0m\u001b[0mscore\u001b[0m \u001b[0;34m=\u001b[0m \u001b[0;36m60\u001b[0m \u001b[0;31m# OK，实际转化为s.set_score(60)\u001b[0m\u001b[0;34m\u001b[0m\u001b[0;34m\u001b[0m\u001b[0m\n\u001b[1;32m      3\u001b[0m \u001b[0mprint\u001b[0m\u001b[0;34m(\u001b[0m\u001b[0ms\u001b[0m\u001b[0;34m.\u001b[0m\u001b[0mscore\u001b[0m\u001b[0;34m)\u001b[0m \u001b[0;31m# OK，实际转化为s.get_score()\u001b[0m\u001b[0;34m\u001b[0m\u001b[0;34m\u001b[0m\u001b[0m\n\u001b[0;32m----> 4\u001b[0;31m \u001b[0ms\u001b[0m\u001b[0;34m.\u001b[0m\u001b[0mscore\u001b[0m \u001b[0;34m=\u001b[0m \u001b[0;36m999\u001b[0m\u001b[0;34m\u001b[0m\u001b[0;34m\u001b[0m\u001b[0m\n\u001b[0m",
      "\u001b[0;32m<ipython-input-7-9f5314ed1319>\u001b[0m in \u001b[0;36mscore\u001b[0;34m(self, value)\u001b[0m\n\u001b[1;32m     10\u001b[0m             \u001b[0;32mraise\u001b[0m \u001b[0mValueError\u001b[0m\u001b[0;34m(\u001b[0m\u001b[0;34m'score must be an integer!'\u001b[0m\u001b[0;34m)\u001b[0m\u001b[0;34m\u001b[0m\u001b[0;34m\u001b[0m\u001b[0m\n\u001b[1;32m     11\u001b[0m         \u001b[0;32mif\u001b[0m \u001b[0mvalue\u001b[0m \u001b[0;34m<\u001b[0m \u001b[0;36m0\u001b[0m \u001b[0;32mor\u001b[0m \u001b[0mvalue\u001b[0m \u001b[0;34m>\u001b[0m \u001b[0;36m100\u001b[0m\u001b[0;34m:\u001b[0m\u001b[0;34m\u001b[0m\u001b[0;34m\u001b[0m\u001b[0m\n\u001b[0;32m---> 12\u001b[0;31m             \u001b[0;32mraise\u001b[0m \u001b[0mValueError\u001b[0m\u001b[0;34m(\u001b[0m\u001b[0;34m'score must between 0 ~ 100!'\u001b[0m\u001b[0;34m)\u001b[0m\u001b[0;34m\u001b[0m\u001b[0;34m\u001b[0m\u001b[0m\n\u001b[0m\u001b[1;32m     13\u001b[0m         \u001b[0mself\u001b[0m\u001b[0;34m.\u001b[0m\u001b[0m_score\u001b[0m \u001b[0;34m=\u001b[0m \u001b[0mvalue\u001b[0m\u001b[0;34m\u001b[0m\u001b[0;34m\u001b[0m\u001b[0m\n",
      "\u001b[0;31mValueError\u001b[0m: score must between 0 ~ 100!"
     ]
    }
   ],
   "source": [
    "s = Student()\n",
    "s.score = 60 # OK，实际转化为s.set_score(60)\n",
    "print(s.score) # OK，实际转化为s.get_score()\n",
    "s.score = 999"
   ]
  },
  {
   "cell_type": "markdown",
   "metadata": {},
   "source": [
    "练习：利用@property给一个Screen对象加上width和height属性，以及一个只读属性resolution："
   ]
  },
  {
   "cell_type": "code",
   "execution_count": 10,
   "metadata": {},
   "outputs": [
    {
     "name": "stdout",
     "output_type": "stream",
     "text": [
      "resolution =  787200\n"
     ]
    }
   ],
   "source": [
    "class Screen(object):\n",
    "    \n",
    "    @property\n",
    "    def width(self):\n",
    "        return selef.__width\n",
    "    \n",
    "    @width.setter\n",
    "    def width(self, value):\n",
    "        self.__width = value\n",
    "        \n",
    "    @property\n",
    "    def height(self):\n",
    "        return selef.__height\n",
    "    \n",
    "    @height.setter\n",
    "    def height(self, value):\n",
    "        self.__height = value\n",
    "        \n",
    "    @property\n",
    "    def resolution(self):\n",
    "        return self.__width * self.__height\n",
    "    \n",
    "if __name__ == \"__main__\":\n",
    "    s = Screen()\n",
    "    s.width = 1025\n",
    "    s.height = 768\n",
    "    print(\"resolution = \", s.resolution)"
   ]
  },
  {
   "cell_type": "markdown",
   "metadata": {},
   "source": [
    "### 多重继承"
   ]
  },
  {
   "cell_type": "code",
   "execution_count": 11,
   "metadata": {},
   "outputs": [],
   "source": [
    "class Animal(object):\n",
    "    pass\n",
    "\n",
    "# 大类:\n",
    "class Mammal(Animal):\n",
    "    pass\n",
    "\n",
    "class Bird(Animal):\n",
    "    pass\n",
    "\n",
    "# 各种动物:\n",
    "class Dog(Mammal):\n",
    "    pass\n",
    "\n",
    "class Bat(Mammal):\n",
    "    pass\n",
    "\n",
    "class Parrot(Bird):\n",
    "    pass\n",
    "\n",
    "class Ostrich(Bird):\n",
    "    pass"
   ]
  },
  {
   "cell_type": "code",
   "execution_count": 15,
   "metadata": {},
   "outputs": [],
   "source": [
    "# 定义新的Runnable和Flyable的类\n",
    "# 为了更好地看出继承关系，我们把Runnable和Flyable改为RunnableMixIn和FlyableMixIn\n",
    "class RunnableMixIn(object):\n",
    "    def run(self):\n",
    "        print('Running...')\n",
    "\n",
    "class FlyableMixIn(object):\n",
    "    def fly(self):\n",
    "        print('Flying...')"
   ]
  },
  {
   "cell_type": "code",
   "execution_count": 16,
   "metadata": {},
   "outputs": [],
   "source": [
    "# 对动物补充父类\n",
    "class Dog(Mammal, RunnableMixIn):\n",
    "    pass"
   ]
  },
  {
   "cell_type": "markdown",
   "metadata": {},
   "source": [
    "### 定制类  \n",
    "一些特殊的变量"
   ]
  },
  {
   "cell_type": "markdown",
   "metadata": {},
   "source": [
    "[廖雪峰--定制类](https://www.liaoxuefeng.com/wiki/1016959663602400/1017590712115904)  \n",
    "__slots__、__str__()、__repr__()、__iter__()、__next__()、__getitem__()、__getattr____call__()"
   ]
  },
  {
   "cell_type": "markdown",
   "metadata": {},
   "source": [
    "## 错误处理"
   ]
  },
  {
   "cell_type": "code",
   "execution_count": 20,
   "metadata": {},
   "outputs": [
    {
     "name": "stdout",
     "output_type": "stream",
     "text": [
      "try...\n",
      "ZeroDivisionError: division by zero\n",
      "finally...\n",
      "END\n"
     ]
    }
   ],
   "source": [
    "# 错误处理机制\n",
    "try:\n",
    "    print('try...')\n",
    "    r = 10 / 0\n",
    "    print('result:', r)\n",
    "except ValueError as e:\n",
    "    print('ValueError:', e)\n",
    "except ZeroDivisionError as e:\n",
    "    print('ZeroDivisionError:', e)\n",
    "else:\n",
    "    print('no error!')\n",
    "finally:\n",
    "    print('finally...')\n",
    "print('END')"
   ]
  },
  {
   "cell_type": "code",
   "execution_count": 25,
   "metadata": {},
   "outputs": [
    {
     "ename": "ValueError",
     "evalue": "invalid value: 0",
     "output_type": "error",
     "traceback": [
      "\u001b[0;31m---------------------------------------------------------------------------\u001b[0m",
      "\u001b[0;31mValueError\u001b[0m                                Traceback (most recent call last)",
      "\u001b[0;32m<ipython-input-25-364b1ca4a11f>\u001b[0m in \u001b[0;36m<module>\u001b[0;34m\u001b[0m\n\u001b[1;32m      6\u001b[0m     \u001b[0;32mreturn\u001b[0m \u001b[0;36m10\u001b[0m \u001b[0;34m/\u001b[0m \u001b[0mn\u001b[0m\u001b[0;34m\u001b[0m\u001b[0;34m\u001b[0m\u001b[0m\n\u001b[1;32m      7\u001b[0m \u001b[0;34m\u001b[0m\u001b[0m\n\u001b[0;32m----> 8\u001b[0;31m \u001b[0mfoo\u001b[0m\u001b[0;34m(\u001b[0m\u001b[0;36m0\u001b[0m\u001b[0;34m)\u001b[0m\u001b[0;34m\u001b[0m\u001b[0;34m\u001b[0m\u001b[0m\n\u001b[0m",
      "\u001b[0;32m<ipython-input-25-364b1ca4a11f>\u001b[0m in \u001b[0;36mfoo\u001b[0;34m(s)\u001b[0m\n\u001b[1;32m      3\u001b[0m     \u001b[0mn\u001b[0m \u001b[0;34m=\u001b[0m \u001b[0mint\u001b[0m\u001b[0;34m(\u001b[0m\u001b[0ms\u001b[0m\u001b[0;34m)\u001b[0m\u001b[0;34m\u001b[0m\u001b[0;34m\u001b[0m\u001b[0m\n\u001b[1;32m      4\u001b[0m     \u001b[0;32mif\u001b[0m \u001b[0mn\u001b[0m \u001b[0;34m==\u001b[0m \u001b[0;36m0\u001b[0m\u001b[0;34m:\u001b[0m\u001b[0;34m\u001b[0m\u001b[0;34m\u001b[0m\u001b[0m\n\u001b[0;32m----> 5\u001b[0;31m         \u001b[0;32mraise\u001b[0m \u001b[0mValueError\u001b[0m\u001b[0;34m(\u001b[0m\u001b[0;34m'invalid value: %s'\u001b[0m \u001b[0;34m%\u001b[0m \u001b[0ms\u001b[0m\u001b[0;34m)\u001b[0m\u001b[0;34m\u001b[0m\u001b[0;34m\u001b[0m\u001b[0m\n\u001b[0m\u001b[1;32m      6\u001b[0m     \u001b[0;32mreturn\u001b[0m \u001b[0;36m10\u001b[0m \u001b[0;34m/\u001b[0m \u001b[0mn\u001b[0m\u001b[0;34m\u001b[0m\u001b[0;34m\u001b[0m\u001b[0m\n\u001b[1;32m      7\u001b[0m \u001b[0;34m\u001b[0m\u001b[0m\n",
      "\u001b[0;31mValueError\u001b[0m: invalid value: 0"
     ]
    }
   ],
   "source": [
    "# 抛出错误\n",
    "def foo(s):\n",
    "    n = int(s)\n",
    "    if n == 0:\n",
    "        raise ValueError('invalid value: %s' % s)\n",
    "    return 10 / n\n",
    "\n",
    "foo(0)"
   ]
  },
  {
   "cell_type": "markdown",
   "metadata": {},
   "source": [
    "## 文件读写"
   ]
  },
  {
   "cell_type": "markdown",
   "metadata": {},
   "source": [
    "使用`with`自动调用close()方法"
   ]
  },
  {
   "cell_type": "code",
   "execution_count": 3,
   "metadata": {},
   "outputs": [
    {
     "name": "stdout",
     "output_type": "stream",
     "text": [
      "this is a test file\n",
      "another line\n",
      "third line\n",
      "test '\\n'\n"
     ]
    }
   ],
   "source": [
    "with open('test', 'r') as f:\n",
    "    print(f.read()) # rean()会一次读取所有内容，如果文件过大，内存就爆了"
   ]
  },
  {
   "cell_type": "code",
   "execution_count": 12,
   "metadata": {},
   "outputs": [
    {
     "name": "stdout",
     "output_type": "stream",
     "text": [
      "this is a test file\n",
      "another line\n",
      "third line\n",
      "test '\\n'\n",
      "中文测试\n"
     ]
    }
   ],
   "source": [
    "# 利用readlines一次读取所有行，并返回list\n",
    "# 当读取文件为非utf-8编码，需要指定编码，常用的'gbk'；errors忽略非法编码字符\n",
    "with open('test', 'r', encoding='utf-8', errors='ignore') as f: \n",
    "    for line in f.readlines():\n",
    "        print(line.strip()) # 把每行结尾的'\\n'删掉"
   ]
  },
  {
   "cell_type": "code",
   "execution_count": 13,
   "metadata": {},
   "outputs": [
    {
     "name": "stdout",
     "output_type": "stream",
     "text": [
      "b'\\x89PNG\\r\\n\\x1a\\n\\x00\\x00\\x00\\rIHDR\\x00\\x00\\x01\\x0f\\x00\\x00\\x00\\xaf\\x08\\x06\\x00\\x00\\x00\\xe3D[d\\x00\\x00\\x00\\x01sRGB\\x00\\xae\\xce\\x1c\\xe9\\x00\\x00\\x00\\x04gAMA\\x00\\x00\\xb1\\x8f\\x0b\\xfca\\x05\\x00\\x00\\x00\\tpHYs\\x00\\x00\\x16%\\x00\\x00\\x16%\\x01IR$\\xf0\\x00\\x00\\x02\\x0fIDATx^\\xed\\xd41\\x01\\x00\\x00\\x0c\\xc3\\xa0\\xf97\\xddy\\xc8\\r\"\\xb8\\x01\\x04\\xf2\\x00\\x12y\\x00\\x89<\\x80D\\x1e@\"\\x0f \\x91\\x07\\x90\\xc8\\x03H\\xe4\\x01$\\xf2\\x00\\x12y\\x00\\x89<\\x80D\\x1e@\"\\x0f \\x91\\x07\\x90\\xc8\\x03H\\xe4\\x01$\\xf2\\x00\\x12y\\x00\\x89<\\x80D\\x1e@\"\\x0f \\x91\\x07\\x90\\xc8\\x03H\\xe4\\x01$\\xf2\\x00\\x12y\\x00\\x89<\\x80D\\x1e@\"\\x0f \\x91\\x07\\x90\\xc8\\x03H\\xe4\\x01$\\xf2\\x00\\x12y\\x00\\x89<\\x80D\\x1e@\"\\x0f \\x91\\x07\\x90\\xc8\\x03H\\xe4\\x01$\\xf2\\x00\\x12y\\x00\\x89<\\x80D\\x1e@\"\\x0f \\x91\\x07\\x90\\xc8\\x03H\\xe4\\x01$\\xf2\\x00\\x12y\\x00\\x89<\\x80D\\x1e@\"\\x0f \\x91\\x07\\x90\\xc8\\x03H\\xe4\\x01$\\xf2\\x00\\x12y\\x00\\x89<\\x80D\\x1e@\"\\x0f \\x91\\x07\\x90\\xc8\\x03H\\xe4\\x01$\\xf2\\x00\\x12y\\x00\\x89<\\x80D\\x1e@\"\\x0f \\x91\\x07\\x90\\xc8\\x03H\\xe4\\x01$\\xf2\\x00\\x12y\\x00\\x89<\\x80D\\x1e@\"\\x0f \\x91\\x07\\x90\\xc8\\x03H\\xe4\\x01$\\xf2\\x00\\x12y\\x00\\x89<\\x80D\\x1e@\"\\x0f \\x91\\x07\\x90\\xc8\\x03H\\xe4\\x01$\\xf2\\x00\\x12y\\x00\\x89<\\x80D\\x1e@\"\\x0f \\x91\\x07\\x90\\xc8\\x03H\\xe4\\x01$\\xf2\\x00\\x12y\\x00\\x89<\\x80D\\x1e@\"\\x0f \\x91\\x07\\x90\\xc8\\x03H\\xe4\\x01$\\xf2\\x00\\x12y\\x00\\x89<\\x80D\\x1e@\"\\x0f \\x91\\x07\\x90\\xc8\\x03H\\xe4\\x01$\\xf2\\x00\\x12y\\x00\\x89<\\x80D\\x1e@\"\\x0f \\x91\\x07\\x90\\xc8\\x03H\\xe4\\x01$\\xf2\\x00\\x12y\\x00\\x89<\\x80D\\x1e@\"\\x0f \\x91\\x07\\x90\\xc8\\x03H\\xe4\\x01$\\xf2\\x00\\x12y\\x00\\x89<\\x80D\\x1e@\"\\x0f \\x91\\x07\\x90\\xc8\\x03H\\xe4\\x01$\\xf2\\x00\\x12y\\x00\\x89<\\x80D\\x1e@\"\\x0f \\x91\\x07\\x90\\xc8\\x03H\\xe4\\x01$\\xf2\\x00\\x12y\\x00\\x89<\\x80D\\x1e@\"\\x0f \\x91\\x07\\x90\\xc8\\x03H\\xe4\\x01$\\xf2\\x00\\x12y\\x00\\x89<\\x80D\\x1e@\"\\x0f \\x91\\x07\\x90\\xc8\\x03H\\xe4\\x01$\\xf2\\x00\\x12y\\x00\\x89<\\x80D\\x1e@\"\\x0f \\x91\\x07\\x90\\xc8\\x03H\\xe4\\x01$\\xf2\\x00\\x12y\\x00\\x89<\\x80D\\x1e@\"\\x0f \\x91\\x07\\x10l\\x0f\\x17jJ;\\xaa\\xde\\xd1K\\x00\\x00\\x00\\x00IEND\\xaeB`\\x82'\n"
     ]
    }
   ],
   "source": [
    "# 读取图片、视频等二进制文件\n",
    "with open('test.png', 'rb') as f_png:\n",
    "    print(f_png.read())"
   ]
  },
  {
   "cell_type": "code",
   "execution_count": 15,
   "metadata": {},
   "outputs": [],
   "source": [
    "# 写入文件，采用'w'或者'wb'\n",
    "with open('test1', 'w', encoding='utf-8') as f:\n",
    "    f.write('创建空文本\\n写入空文本')"
   ]
  },
  {
   "cell_type": "code",
   "execution_count": 17,
   "metadata": {},
   "outputs": [
    {
     "name": "stdout",
     "output_type": "stream",
     "text": [
      "创建空文本\n",
      "写入空文本append a lineappend a line\n"
     ]
    }
   ],
   "source": [
    "# 'w'为覆盖写入，增量写入可用'a'\n",
    "with open('test1', 'a', encoding='utf-8') as f:\n",
    "    f.write('append a line')\n",
    "with open('test1', 'r', encoding='utf-8') as f:\n",
    "    print(f.read())"
   ]
  },
  {
   "cell_type": "markdown",
   "metadata": {},
   "source": [
    "## 操作文件和目录"
   ]
  },
  {
   "cell_type": "code",
   "execution_count": null,
   "metadata": {},
   "outputs": [],
   "source": []
  }
 ],
 "metadata": {
  "kernelspec": {
   "display_name": "Python 3",
   "language": "python",
   "name": "python3"
  },
  "language_info": {
   "codemirror_mode": {
    "name": "ipython",
    "version": 3
   },
   "file_extension": ".py",
   "mimetype": "text/x-python",
   "name": "python",
   "nbconvert_exporter": "python",
   "pygments_lexer": "ipython3",
   "version": "3.7.1"
  }
 },
 "nbformat": 4,
 "nbformat_minor": 2
}
