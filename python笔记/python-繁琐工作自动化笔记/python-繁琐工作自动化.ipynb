{
 "cells": [
  {
   "cell_type": "markdown",
   "metadata": {},
   "source": [
    "# 5. 字典"
   ]
  },
  {
   "cell_type": "markdown",
   "metadata": {},
   "source": [
    "setdefault方法：  \n",
    "检查键，若不存在，设置默认值"
   ]
  },
  {
   "cell_type": "code",
   "execution_count": 1,
   "metadata": {},
   "outputs": [
    {
     "data": {
      "text/plain": [
       "{'key': None}"
      ]
     },
     "execution_count": 1,
     "metadata": {},
     "output_type": "execute_result"
    }
   ],
   "source": [
    "dict = {}\n",
    "dict.setdefault('key',None)\n",
    "dict"
   ]
  },
  {
   "cell_type": "code",
   "execution_count": 9,
   "metadata": {},
   "outputs": [
    {
     "name": "stdout",
     "output_type": "stream",
     "text": [
      "{'a': 11, 'b': 5, 'c': 3, 'd': 5, ' ': 34, 'h': 11, 'j': 2, 'i': 15, 'k': 3, 'l': 5, 'o': 11, 's': 12, 't': 17, 'r': 11, 'n': 19, 'g': 10, 'W': 1, 'e': 21, 'f': 4, 'm': 1, '-': 2, 'p': 2, 'u': 2, ',': 3, 'w': 3, '.': 1, 'I': 1}\n"
     ]
    }
   ],
   "source": [
    "#利用字典的setdefault计数\n",
    "message = 'abcd ahjiklo string We first search from the beginning and find non-repeating substrings, then there are two,\\\n",
    "one is abcd and the other is ahjiklo. If we look at the single weight, the longest non-repeating substring'\n",
    "count = {}\n",
    "for char in message:\n",
    "    count.setdefault(char, 0)\n",
    "    count[char] = count[char]+1\n",
    "print(count)"
   ]
  },
  {
   "cell_type": "markdown",
   "metadata": {},
   "source": [
    "# 7. 正则表达式"
   ]
  },
  {
   "cell_type": "code",
   "execution_count": 10,
   "metadata": {},
   "outputs": [
    {
     "name": "stdout",
     "output_type": "stream",
     "text": [
      "415-555-4242\n"
     ]
    }
   ],
   "source": [
    "# 创建正则对象\n",
    "import re\n",
    "phonenum_regex = re.compile(r'\\d{3}-\\d{3}-\\d{4}')\n",
    "# 匹配正则对象\n",
    "mo = phonenum_regex.search('My number is 415-555-4242.')\n",
    "# group不传参数默认为0\n",
    "print(mo.group())"
   ]
  },
  {
   "cell_type": "code",
   "execution_count": 19,
   "metadata": {},
   "outputs": [
    {
     "name": "stdout",
     "output_type": "stream",
     "text": [
      "group(0): 415-555-4242\n",
      "group(1): 415\n",
      "group(2): 555-4242\n",
      "('415', '555-4242')\n"
     ]
    }
   ],
   "source": [
    "# 利用括号分组\n",
    "phonenum_regex = re.compile(r'(\\d{3})-(\\d{3}-\\d{4})')\n",
    "mo = phonenum_regex.search('My number is 415-555-4242.')\n",
    "print('group(0): ' + mo.group(0), 'group(1): ' + mo.group(1), 'group(2): ' + mo.group(2), sep='\\n')\n",
    "print(mo.groups())"
   ]
  },
  {
   "cell_type": "code",
   "execution_count": 20,
   "metadata": {},
   "outputs": [
    {
     "data": {
      "text/plain": [
       "'Batman'"
      ]
     },
     "execution_count": 20,
     "metadata": {},
     "output_type": "execute_result"
    }
   ],
   "source": [
    "# 用管道匹配多个分组\n",
    "# 返回首次出现的匹配\n",
    "hero_regex = re.compile(r'Batman|Tina')\n",
    "mo = hero_regex.search('Batman and Tina')\n",
    "mo.group()"
   ]
  },
  {
   "cell_type": "code",
   "execution_count": 21,
   "metadata": {},
   "outputs": [
    {
     "data": {
      "text/plain": [
       "'batmobile'"
      ]
     },
     "execution_count": 21,
     "metadata": {},
     "output_type": "execute_result"
    }
   ],
   "source": [
    "# 假设匹配batman、batmobile、batcopter中任意一个\n",
    "bat_regex = re.compile(r'bat(man|mobile|copter)')\n",
    "mo = bat_regex.search('bathein and batmobile are goods')\n",
    "mo.group()"
   ]
  },
  {
   "cell_type": "code",
   "execution_count": 24,
   "metadata": {},
   "outputs": [
    {
     "data": {
      "text/plain": [
       "'batman'"
      ]
     },
     "execution_count": 24,
     "metadata": {},
     "output_type": "execute_result"
    }
   ],
   "source": [
    "# ?匹配零次或一次\n",
    "bat_regex = re.compile(r'bat(wo)?man')\n",
    "mo = bat_regex.search('batman is hero')\n",
    "mo.group()"
   ]
  },
  {
   "cell_type": "code",
   "execution_count": 25,
   "metadata": {},
   "outputs": [
    {
     "data": {
      "text/plain": [
       "'batwowoman'"
      ]
     },
     "execution_count": 25,
     "metadata": {},
     "output_type": "execute_result"
    }
   ],
   "source": [
    "# *匹配零次或多次\n",
    "bat_regex = re.compile(r'bat(wo)*man')\n",
    "mo = bat_regex.search('batwowoman is hero')\n",
    "mo.group()"
   ]
  },
  {
   "cell_type": "code",
   "execution_count": 26,
   "metadata": {},
   "outputs": [
    {
     "name": "stdout",
     "output_type": "stream",
     "text": [
      "notmatched\n"
     ]
    }
   ],
   "source": [
    "# +匹配一次或多次\n",
    "bat_regex = re.compile(r'bat(wo)+man')\n",
    "mo = bat_regex.search('batman is hero')\n",
    "if mo:\n",
    "    print(mo.group())\n",
    "else:\n",
    "    print('notmatched')"
   ]
  },
  {
   "cell_type": "code",
   "execution_count": 15,
   "metadata": {},
   "outputs": [
    {
     "name": "stdout",
     "output_type": "stream",
     "text": [
      "<re.Match object; span=(0, 6), match='hahaha'>\n",
      "<re.Match object; span=(0, 8), match='hahahaha'>\n",
      "None\n",
      "<re.Match object; span=(0, 0), match=''>\n"
     ]
    }
   ],
   "source": [
    "# {}匹配特定次数\n",
    "# {3}匹配3次\n",
    "print(re.match(r'(ha){3}', 'hahaha'))\n",
    "# {3,5}匹配3-5次\n",
    "print(re.match(r'(ha){3,5}', 'hahahaha'))\n",
    "# {3,}匹配3次及以上\n",
    "print(re.match(r'(ha){3,}', 'haha'))\n",
    "# {,3}匹配0次-3次\n",
    "print(re.match(r'(ha){,3}', 'erwrwer'))"
   ]
  },
  {
   "cell_type": "code",
   "execution_count": 2,
   "metadata": {},
   "outputs": [
    {
     "name": "stdout",
     "output_type": "stream",
     "text": [
      "hahahahaha\n",
      "hahaha\n"
     ]
    }
   ],
   "source": [
    "# 贪心与非贪心匹配\n",
    "# 默认贪心匹配，尽可能匹配较多的\n",
    "greedy_regex = re.compile(r'(ha){3,5}')\n",
    "mo1 = greedy_regex.search('hahahahahaha')\n",
    "print(mo1.group())\n",
    "\n",
    "# 非贪心匹配，在匹配规则后加上?\n",
    "nongreedy_regex = re.compile(r'(ha){3,5}?')\n",
    "mo2 = nongreedy_regex.search('hahahahahaha')\n",
    "print(mo2.group())"
   ]
  },
  {
   "cell_type": "code",
   "execution_count": 4,
   "metadata": {},
   "outputs": [
    {
     "data": {
      "text/plain": [
       "['415-555-9999', '212-555-0000']"
      ]
     },
     "execution_count": 4,
     "metadata": {},
     "output_type": "execute_result"
    }
   ],
   "source": [
    "# findall()方法查找所有，包括文本第一次出现\n",
    "# 无分组返回每一个正则长串的列表\n",
    "phonenum_regex = re.compile(r'\\d\\d\\d-\\d\\d\\d-\\d\\d\\d\\d')\n",
    "phonenum_regex.findall('cell: 415-555-9999 work: 212-555-0000')"
   ]
  },
  {
   "cell_type": "code",
   "execution_count": 7,
   "metadata": {},
   "outputs": [
    {
     "data": {
      "text/plain": [
       "[('415', '555', '9999'), ('212', '555', '0000')]"
      ]
     },
     "execution_count": 7,
     "metadata": {},
     "output_type": "execute_result"
    }
   ],
   "source": [
    "# 分组返回每一个分组元组的列表\n",
    "phonenum_regex = re.compile(r'(\\d\\d\\d)-(\\d\\d\\d)-(\\d\\d\\d\\d)')\n",
    "phonenum_regex.findall('cell: 415-555-9999 work: 212-555-0000')"
   ]
  },
  {
   "cell_type": "markdown",
   "metadata": {},
   "source": [
    "字符分类"
   ]
  },
  {
   "cell_type": "markdown",
   "metadata": {},
   "source": [
    "\\d 0-9的任何数字  \n",
    "\\D 除0-9数字外的任何字符  \n",
    "\\w 任何字母、数字、下划线字符  \n",
    "\\W 除字母、数字、下划线字符外的任何字符  \n",
    "\\s 空格、制表符、换行符  \n",
    "\\S 除空格、制表符、换行符外的任何字符"
   ]
  },
  {
   "cell_type": "markdown",
   "metadata": {},
   "source": [
    "自定义字符分类  \n",
    "用方括号自定义字符分类，方括号内的特殊字符不会被转义  \n",
    "利用-表示范围"
   ]
  },
  {
   "cell_type": "markdown",
   "metadata": {},
   "source": [
    "[aeiouAEIOU] 匹配所有元音  \n",
    "[0-9.] 匹配所有数字和字符.  \n",
    "[^aeiouAEIOU] 方括号内最前方加上^表示非方括号内字符，即本例匹配所有非元音字符"
   ]
  },
  {
   "cell_type": "code",
   "execution_count": 41,
   "metadata": {},
   "outputs": [
    {
     "name": "stdout",
     "output_type": "stream",
     "text": [
      "<re.Match object; span=(0, 2), match='ha'>\n",
      "<re.Match object; span=(1, 2), match='3'>\n",
      "<re.Match object; span=(0, 6), match='232124'>\n"
     ]
    }
   ],
   "source": [
    "# ^匹配以正则对象开始的字串\n",
    "print(re.match(r'^ha', 'hahaha'))\n",
    "# $匹配以正则对象结束的子串\n",
    "print(re.search(r'\\d$', '23'))\n",
    "# ^$匹配以正则对象从开始到结束都满足的子串\n",
    "print(re.match(r'^\\d+$', '232124'))"
   ]
  },
  {
   "cell_type": "markdown",
   "metadata": {},
   "source": [
    "四大检索方法  \n",
    "match 开头匹配，只匹配一次  \n",
    "search 全局匹配，只匹配一次  \n",
    "findall 匹配所有符号条件的数据，返回是 结果列表  \n",
    "finditer 迭代对象，迭代 Match 对象  "
   ]
  },
  {
   "cell_type": "code",
   "execution_count": 42,
   "metadata": {},
   "outputs": [
    {
     "name": "stdout",
     "output_type": "stream",
     "text": [
      "<re.Match object; span=(0, 11), match='87asd a8s09'>\n"
     ]
    }
   ],
   "source": [
    "# .匹配所有字符（除换行符外）\n",
    "print(re.search(r'.*', '87asd a8s09'))"
   ]
  },
  {
   "cell_type": "code",
   "execution_count": 85,
   "metadata": {},
   "outputs": [
    {
     "name": "stdout",
     "output_type": "stream",
     "text": [
      "hello 222 world 222 is 222\n",
      "hello 222 world 222 is 222\n"
     ]
    }
   ],
   "source": [
    "# re.sub()方法正则替换字符串\n",
    "input_str = 'hello 123 world 456 is 789'\n",
    "replaced_str = re.sub(\"\\d+\", \"222\", input_str)\n",
    "print(replaced_str)\n",
    "\n",
    "# 也可以正则对象方式（适合较复杂的正则替换）\n",
    "num_regex = re.compile(r'\\d+')\n",
    "replaced_str1 = num_regex.sub('222', input_str)\n",
    "print(replaced_str1)"
   ]
  },
  {
   "cell_type": "code",
   "execution_count": 102,
   "metadata": {},
   "outputs": [
    {
     "name": "stdout",
     "output_type": "stream",
     "text": [
      "222 456 hello 789\n"
     ]
    }
   ],
   "source": [
    "# 用\\N的方式表示正则分组\n",
    "# \\1表示分组1，最终匹配'hello 123 hello'，并替换为'222'\n",
    "input_str = 'hello 123 hello 456 hello 789'\n",
    "replaced_str2 = re.sub(r\"(\\w+) (\\d+) \\1\", \"222\", input_str)\n",
    "print(replaced_str2)"
   ]
  },
  {
   "cell_type": "code",
   "execution_count": 83,
   "metadata": {},
   "outputs": [
    {
     "data": {
      "text/plain": [
       "'hello 222 world 456 is 789'"
      ]
     },
     "execution_count": 83,
     "metadata": {},
     "output_type": "execute_result"
    }
   ],
   "source": [
    "# \\1将由正则对象的分组1所替代\n",
    "num_regex = re.compile(r\"(hello) (\\d+)\")\n",
    "num_regex.sub(r'\\1 222', input_str)"
   ]
  },
  {
   "cell_type": "code",
   "execution_count": 98,
   "metadata": {},
   "outputs": [
    {
     "name": "stdout",
     "output_type": "stream",
     "text": [
      "hello 222 world 222 is 789\n"
     ]
    }
   ],
   "source": [
    "# count参数(第四个参数)表示替换前几个\n",
    "input_str = 'hello 123 world 456 is 789'\n",
    "replaced_str = re.sub(\"\\d+\", \"222\", input_str, 2)\n",
    "print(replaced_str)"
   ]
  },
  {
   "cell_type": "code",
   "execution_count": 108,
   "metadata": {},
   "outputs": [],
   "source": [
    "# re.compile()的第二个参数\n",
    "# re.IGNORECASE 忽略大小写\n",
    "# re.DOTALL .匹配包括换行符\n",
    "# re.VERBOSE 复杂正则忽略空白符和注释\n",
    "phone_regex = re.compile(r'''(\n",
    "    (\\d{3}|\\(\\d{3}\\))? # 区号\n",
    "    (\\s|-|\\.)? # 分割符\n",
    "    (\\d{3}) #首3位数开头\n",
    "    (\\s|-|\\.)# 分割符\n",
    "    (\\d{4}) # 尾4位数\n",
    "    (\\s*(ext|x|ext.)\\s*\\d{2,5})?\n",
    "    )''', re.VERBOSE)\n",
    "# 同时使用第二个参数，利用管道符\n",
    "some_regex = re.compile('foo', re.IGNORECASE|re.DOTALL|re.VERBOSE)"
   ]
  },
  {
   "cell_type": "code",
   "execution_count": null,
   "metadata": {},
   "outputs": [],
   "source": []
  }
 ],
 "metadata": {
  "kernelspec": {
   "display_name": "Python 3",
   "language": "python",
   "name": "python3"
  },
  "language_info": {
   "codemirror_mode": {
    "name": "ipython",
    "version": 3
   },
   "file_extension": ".py",
   "mimetype": "text/x-python",
   "name": "python",
   "nbconvert_exporter": "python",
   "pygments_lexer": "ipython3",
   "version": "3.7.1"
  }
 },
 "nbformat": 4,
 "nbformat_minor": 2
}
