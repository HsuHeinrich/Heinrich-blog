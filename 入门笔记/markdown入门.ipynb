{
 "cells": [
  {
   "cell_type": "markdown",
   "metadata": {},
   "source": [
    "# markdowm入门"
   ]
  },
  {
   "cell_type": "markdown",
   "metadata": {},
   "source": [
    "* **标题**\n",
    "    # 一级标题\n",
    "    ## 二级标题\n",
    "    ### 三级标题"
   ]
  },
  {
   "cell_type": "markdown",
   "metadata": {},
   "source": [
    "* **粗体&斜体**\n",
    "    * 粗体：\n",
    "        **这是粗体**\n",
    "    * 斜体：\n",
    "        *这是斜体*"
   ]
  },
  {
   "cell_type": "markdown",
   "metadata": {},
   "source": [
    "* **下划线**  \n",
    "这是<u>下划线</u>"
   ]
  },
  {
   "cell_type": "markdown",
   "metadata": {},
   "source": [
    "* **删除线**  \n",
    "这是~~删除线~~"
   ]
  },
  {
   "cell_type": "markdown",
   "metadata": {},
   "source": [
    "* **注释**  \n",
    "\\# 注释看不见  \n",
    "这是<!--注释-->  \n",
    "[>_<]: 看不见我  \n",
    "[^_^]: 看不见我  \n",
    "[<_>]: 看不见我"
   ]
  },
  {
   "cell_type": "markdown",
   "metadata": {},
   "source": [
    "* **段落换行**  \n",
    "    \\# 段落换行 -- 方法一，结束输入两个空格  \n",
    "    这是第一段  \n",
    "    这是第二段  \n",
    "    \n",
    "    \\# 段落换行 -- 方法二，结束输入`<br />`<br />\n",
    "    这是第一段<br />\n",
    "    这是第二段<br />\n",
    "    \n",
    "    \\# 段落换行 -- 方法三，结束两次回车\n",
    "\n",
    "    这是第一段\n",
    "\n",
    "\n",
    "    这是第二段\n",
    "    \n",
    "    \n"
   ]
  },
  {
   "cell_type": "markdown",
   "metadata": {},
   "source": [
    "* **分割线**  \n",
    "    可以在一行中用三个及以上的星号、减号、等于号、底线来建立分隔线，行内不能有除空格外的其他东西（建议三个*）\n",
    "* 示例  \n",
    "    我\n",
    "    ***\n",
    "    是\n",
    "    * * *\n",
    "    分\n",
    "    - - -\n",
    "    隔\n",
    "    *******\n",
    "    线"
   ]
  },
  {
   "cell_type": "markdown",
   "metadata": {},
   "source": [
    "* **引言** \n",
    "    1. > 单行引用\n",
    "    2. > 多行引用1  \n",
    "      > 多行引用2\n",
    "    3. >> 嵌套引用\n",
    "* 示例\n",
    "> 我是一个引用  \n",
    "wo shi yi ge ying yong"
   ]
  },
  {
   "cell_type": "markdown",
   "metadata": {},
   "source": [
    "* **无序列表**\n",
    "    * 列表2\n",
    "    * 列表1\n",
    "    * 列表3"
   ]
  },
  {
   "cell_type": "markdown",
   "metadata": {},
   "source": [
    "* **有序列表**\n",
    "    1. 列表1\n",
    "    2. 列表2\n",
    "    3. 列表3"
   ]
  },
  {
   "cell_type": "markdown",
   "metadata": {},
   "source": [
    "* **行内代码块**  \n",
    "    这是一行中的`import pandas as pd`代码块；若代码块中有``这行代码有`这个字符``，需要两对反引号"
   ]
  },
  {
   "cell_type": "markdown",
   "metadata": {},
   "source": [
    "* **段落代码块**  \n",
    "``` python\n",
    "def add(x ,y):\n",
    "    print(x + y)\n",
    "```\n",
    "注：可以在三对反引号后加语言名称"
   ]
  },
  {
   "cell_type": "markdown",
   "metadata": {},
   "source": [
    "* **网址链接-行内式**  \n",
    "[百度](https://www.baidu.com/)\n",
    "\n",
    "* **网址链接-参考式**  \n",
    "这是[百度]，这是[必应]  \n",
    "[百度]:(https://www.baidu.com/)  \n",
    "[必应]:(https://cn.bing.com/)\n",
    "\n",
    "* **网址自动链接**  \n",
    "<https://www.baidu.com/>\n",
    "\n",
    "* **电子邮件自动链接**  \n",
    "<xuhanyu_cda@163.com>"
   ]
  },
  {
   "attachments": {
    "image.png": {
     "image/png": "[encoded data removed]"
    }
   },
   "cell_type": "markdown",
   "metadata": {},
   "source": [
    "* **图片链接**\n",
    "![image.png](attachment:image.png)"
   ]
  },
  {
   "cell_type": "markdown",
   "metadata": {},
   "source": [
    "* **目录**  \n",
    "\\# 直接输入[TOC]，会自动提取标题作为目录。ipython不支持，可以使用typora\n",
    "\n",
    "[TOC]\n",
    "\n",
    "# 一级标题\n",
    "***\n",
    "## 二级标题\n",
    "***\n",
    "### 三级标题"
   ]
  },
  {
   "cell_type": "markdown",
   "metadata": {},
   "source": [
    "* **脚注**  \n",
    "\\# ipython不支持，可以typora  \n",
    "[~1]: 脚注1 \"1\"\n",
    "这是脚注一[^1]"
   ]
  },
  {
   "cell_type": "markdown",
   "metadata": {},
   "source": [
    "* **公式**  \n",
    "$$\n",
    "H(Y | X)=\\sum_{x \\in \\mathcal{X}, y \\in \\mathcal{Y}} p(x, y) \\log \\left(\\frac{p(x)}{p(x, y)}\\right)\n",
    "$$"
   ]
  }
 ],
 "metadata": {
  "kernelspec": {
   "display_name": "Python 3",
   "language": "python",
   "name": "python3"
  },
  "language_info": {
   "codemirror_mode": {
    "name": "ipython",
    "version": 3
   },
   "file_extension": ".py",
   "mimetype": "text/x-python",
   "name": "python",
   "nbconvert_exporter": "python",
   "pygments_lexer": "ipython3",
   "version": "3.7.1"
  }
 },
 "nbformat": 4,
 "nbformat_minor": 2
}
